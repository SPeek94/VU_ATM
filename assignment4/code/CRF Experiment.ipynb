{
 "cells": [
  {
   "cell_type": "code",
   "execution_count": 3,
   "id": "736d1b90",
   "metadata": {},
   "outputs": [],
   "source": [
    "# ! pip install sklearn-crfsuite\n",
    "# ! pip install hyperopt\n",
    "# ! pip install hyperas\n",
    "import os\n",
    "import time\n",
    "import warnings\n",
    "import numpy as np\n",
    "import pandas as pd\n",
    "from copy import deepcopy\n",
    "import matplotlib.pyplot as plt\n",
    "from sklearn.metrics import f1_score\n",
    "from sklearn_crfsuite import CRF, metrics\n",
    "from IPython.display import display, clear_output\n",
    "\n",
    "import hyperas\n",
    "import hyperopt\n",
    "from hyperas.distributions import uniform\n",
    "from hyperopt import fmin, tpe, hp, STATUS_OK, Trials\n",
    "from hyperas import optim\n",
    "\n",
    "os.chdir(r'C:\\Users\\StanvanLoon\\OneDrive - Umbrio B.V\\Documents\\Master Business Analytics\\Applied Text Mining\\3. Corpus preprocessing and feature extraction')\n",
    "warnings.filterwarnings('ignore')"
   ]
  },
  {
   "cell_type": "markdown",
   "id": "fefd7b5b",
   "metadata": {},
   "source": [
    "# Final Pre-Processing"
   ]
  },
  {
   "cell_type": "code",
   "execution_count": 2,
   "id": "875eff88",
   "metadata": {},
   "outputs": [],
   "source": [
    "def generate_input(df, features, show=True):\n",
    "    \n",
    "    X, y = [], []\n",
    "    number_of_sentences = len(df.idx_sent.unique())\n",
    "    \n",
    "    for i, sentence_id in enumerate(df.idx_sent.unique()):\n",
    "        if show: print(f'\\rSentence: {i+1}/{number_of_sentences}', end='')\n",
    "        \n",
    "        sentence_data = df[df.idx_sent == sentence_id]\n",
    "\n",
    "        X.append([sentence_data.loc[row, features].to_dict() for row in sentence_data.index])\n",
    "        y.append(sentence_data['Negation_cue'].values)\n",
    "    \n",
    "    return X, y"
   ]
  },
  {
   "cell_type": "code",
   "execution_count": 3,
   "id": "63ca3fb3",
   "metadata": {},
   "outputs": [],
   "source": [
    "train_data = pd.read_csv('Data/tmtrain.Preprocessed.csv', index_col=0)\n",
    "dev_data = pd.read_csv('Data/tmdev.Preprocessed.csv', index_col=0)"
   ]
  },
  {
   "cell_type": "code",
   "execution_count": 4,
   "id": "451f7690",
   "metadata": {},
   "outputs": [
    {
     "data": {
      "text/html": [
       "<div>\n",
       "<style scoped>\n",
       "    .dataframe tbody tr th:only-of-type {\n",
       "        vertical-align: middle;\n",
       "    }\n",
       "\n",
       "    .dataframe tbody tr th {\n",
       "        vertical-align: top;\n",
       "    }\n",
       "\n",
       "    .dataframe thead th {\n",
       "        text-align: right;\n",
       "    }\n",
       "</style>\n",
       "<table border=\"1\" class=\"dataframe\">\n",
       "  <thead>\n",
       "    <tr style=\"text-align: right;\">\n",
       "      <th></th>\n",
       "      <th>Token_ID</th>\n",
       "      <th>Token</th>\n",
       "      <th>Lemma</th>\n",
       "      <th>POS</th>\n",
       "      <th>POS_TAG</th>\n",
       "      <th>Dependency_Head</th>\n",
       "      <th>Dependency_Label</th>\n",
       "      <th>idx_sent</th>\n",
       "      <th>Negation_cue</th>\n",
       "      <th>next</th>\n",
       "      <th>prev</th>\n",
       "      <th>trigram</th>\n",
       "      <th>trigram_list</th>\n",
       "      <th>prev_bigram</th>\n",
       "      <th>prev_bigram_list</th>\n",
       "      <th>next_bigram</th>\n",
       "      <th>next_bigram_list</th>\n",
       "      <th>HECT</th>\n",
       "      <th>HECA</th>\n",
       "    </tr>\n",
       "  </thead>\n",
       "  <tbody>\n",
       "    <tr>\n",
       "      <th>0</th>\n",
       "      <td>0</td>\n",
       "      <td>Chapter</td>\n",
       "      <td>chapter</td>\n",
       "      <td>NOUN</td>\n",
       "      <td>NN</td>\n",
       "      <td>5</td>\n",
       "      <td>nmod</td>\n",
       "      <td>0</td>\n",
       "      <td>O</td>\n",
       "      <td>Pad</td>\n",
       "      <td>1</td>\n",
       "      <td>Chapter 1 Mr.</td>\n",
       "      <td>['Chapter', '1', 'Mr.']</td>\n",
       "      <td>Chapter 1</td>\n",
       "      <td>['Chapter', '1']</td>\n",
       "      <td>Chapter 1</td>\n",
       "      <td>['Chapter', '1']</td>\n",
       "      <td>0</td>\n",
       "      <td>0</td>\n",
       "    </tr>\n",
       "    <tr>\n",
       "      <th>1</th>\n",
       "      <td>1</td>\n",
       "      <td>1</td>\n",
       "      <td>1</td>\n",
       "      <td>NUM</td>\n",
       "      <td>CD</td>\n",
       "      <td>1</td>\n",
       "      <td>nummod</td>\n",
       "      <td>0</td>\n",
       "      <td>O</td>\n",
       "      <td>Chapter</td>\n",
       "      <td>Mr.</td>\n",
       "      <td>Chapter 1 Mr.</td>\n",
       "      <td>['Chapter', '1', 'Mr.']</td>\n",
       "      <td>Chapter 1</td>\n",
       "      <td>['Chapter', '1']</td>\n",
       "      <td>1 Mr.</td>\n",
       "      <td>['1', 'Mr.']</td>\n",
       "      <td>0</td>\n",
       "      <td>0</td>\n",
       "    </tr>\n",
       "    <tr>\n",
       "      <th>2</th>\n",
       "      <td>2</td>\n",
       "      <td>Mr.</td>\n",
       "      <td>Mr.</td>\n",
       "      <td>PROPN</td>\n",
       "      <td>NNP</td>\n",
       "      <td>5</td>\n",
       "      <td>compound</td>\n",
       "      <td>0</td>\n",
       "      <td>O</td>\n",
       "      <td>1</td>\n",
       "      <td>Sherlock</td>\n",
       "      <td>1 Mr. Sherlock</td>\n",
       "      <td>['1', 'Mr.', 'Sherlock']</td>\n",
       "      <td>1 Mr.</td>\n",
       "      <td>['1', 'Mr.']</td>\n",
       "      <td>Mr. Sherlock</td>\n",
       "      <td>['Mr.', 'Sherlock']</td>\n",
       "      <td>0</td>\n",
       "      <td>0</td>\n",
       "    </tr>\n",
       "    <tr>\n",
       "      <th>3</th>\n",
       "      <td>3</td>\n",
       "      <td>Sherlock</td>\n",
       "      <td>Sherlock</td>\n",
       "      <td>PROPN</td>\n",
       "      <td>NNP</td>\n",
       "      <td>5</td>\n",
       "      <td>compound</td>\n",
       "      <td>0</td>\n",
       "      <td>O</td>\n",
       "      <td>Mr.</td>\n",
       "      <td>Holmes</td>\n",
       "      <td>Mr. Sherlock Holmes</td>\n",
       "      <td>['Mr.', 'Sherlock', 'Holmes']</td>\n",
       "      <td>Mr. Sherlock</td>\n",
       "      <td>['Mr.', 'Sherlock']</td>\n",
       "      <td>Sherlock Holmes</td>\n",
       "      <td>['Sherlock', 'Holmes']</td>\n",
       "      <td>0</td>\n",
       "      <td>0</td>\n",
       "    </tr>\n",
       "    <tr>\n",
       "      <th>4</th>\n",
       "      <td>4</td>\n",
       "      <td>Holmes</td>\n",
       "      <td>Holmes</td>\n",
       "      <td>PROPN</td>\n",
       "      <td>NNP</td>\n",
       "      <td>0</td>\n",
       "      <td>ROOT</td>\n",
       "      <td>0</td>\n",
       "      <td>O</td>\n",
       "      <td>Sherlock</td>\n",
       "      <td>Mr.</td>\n",
       "      <td>Sherlock Holmes Mr.</td>\n",
       "      <td>['Sherlock', 'Holmes', 'Mr.']</td>\n",
       "      <td>Sherlock Holmes</td>\n",
       "      <td>['Sherlock', 'Holmes']</td>\n",
       "      <td>Holmes Mr.</td>\n",
       "      <td>['Holmes', 'Mr.']</td>\n",
       "      <td>0</td>\n",
       "      <td>0</td>\n",
       "    </tr>\n",
       "  </tbody>\n",
       "</table>\n",
       "</div>"
      ],
      "text/plain": [
       "   Token_ID     Token     Lemma    POS POS_TAG  Dependency_Head  \\\n",
       "0         0   Chapter   chapter   NOUN      NN                5   \n",
       "1         1         1         1    NUM      CD                1   \n",
       "2         2       Mr.       Mr.  PROPN     NNP                5   \n",
       "3         3  Sherlock  Sherlock  PROPN     NNP                5   \n",
       "4         4    Holmes    Holmes  PROPN     NNP                0   \n",
       "\n",
       "  Dependency_Label  idx_sent Negation_cue      next      prev  \\\n",
       "0             nmod         0            O       Pad         1   \n",
       "1           nummod         0            O   Chapter       Mr.   \n",
       "2         compound         0            O         1  Sherlock   \n",
       "3         compound         0            O       Mr.    Holmes   \n",
       "4             ROOT         0            O  Sherlock       Mr.   \n",
       "\n",
       "               trigram                   trigram_list      prev_bigram  \\\n",
       "0        Chapter 1 Mr.        ['Chapter', '1', 'Mr.']        Chapter 1   \n",
       "1        Chapter 1 Mr.        ['Chapter', '1', 'Mr.']        Chapter 1   \n",
       "2       1 Mr. Sherlock       ['1', 'Mr.', 'Sherlock']            1 Mr.   \n",
       "3  Mr. Sherlock Holmes  ['Mr.', 'Sherlock', 'Holmes']     Mr. Sherlock   \n",
       "4  Sherlock Holmes Mr.  ['Sherlock', 'Holmes', 'Mr.']  Sherlock Holmes   \n",
       "\n",
       "         prev_bigram_list      next_bigram        next_bigram_list  HECT  HECA  \n",
       "0        ['Chapter', '1']        Chapter 1        ['Chapter', '1']     0     0  \n",
       "1        ['Chapter', '1']            1 Mr.            ['1', 'Mr.']     0     0  \n",
       "2            ['1', 'Mr.']     Mr. Sherlock     ['Mr.', 'Sherlock']     0     0  \n",
       "3     ['Mr.', 'Sherlock']  Sherlock Holmes  ['Sherlock', 'Holmes']     0     0  \n",
       "4  ['Sherlock', 'Holmes']       Holmes Mr.       ['Holmes', 'Mr.']     0     0  "
      ]
     },
     "execution_count": 4,
     "metadata": {},
     "output_type": "execute_result"
    }
   ],
   "source": [
    "train_data.head()"
   ]
  },
  {
   "cell_type": "markdown",
   "id": "acd5870d",
   "metadata": {},
   "source": [
    "# Feature Selection"
   ]
  },
  {
   "cell_type": "code",
   "execution_count": 4,
   "id": "d4acace3",
   "metadata": {},
   "outputs": [],
   "source": [
    "all_features = ['Token', 'Lemma', 'POS', 'POS_TAG', 'Dependency_Head', 'Dependency_Label',\n",
    "                'next', 'prev', 'trigram', 'prev_bigram', 'next_bigram', 'HECT', 'HECA']"
   ]
  },
  {
   "cell_type": "code",
   "execution_count": 5,
   "id": "c194961a",
   "metadata": {},
   "outputs": [],
   "source": [
    "def feature_ablation(all_features):\n",
    "    \n",
    "    best_scores = []\n",
    "    order_of_removal = []\n",
    "    features_to_use = all_features.copy()\n",
    "    train_x, train_y = generate_input(train_data, features_to_use, False)\n",
    "    dev_x, dev_y = generate_input(dev_data, features_to_use, False)\n",
    "    \n",
    "    while len(features_to_use) > 1:\n",
    "        \n",
    "        scores = []\n",
    "        print('\\n', features_to_use)\n",
    "\n",
    "        for feature in features_to_use:\n",
    "            \n",
    "            temp_train_x = deepcopy(train_x)\n",
    "            temp_dev_x = deepcopy(dev_x)\n",
    "            \n",
    "            for sentence in temp_train_x:\n",
    "                for word in sentence:\n",
    "                    del word[feature]\n",
    "        \n",
    "            for sentence in temp_dev_x:\n",
    "                for word in sentence:\n",
    "                    del word[feature]            \n",
    "            \n",
    "            # Build new classifier\n",
    "            crf = CRF(algorithm='lbfgs',\n",
    "                      c1=0.1,\n",
    "                      c2=0.1,\n",
    "                      max_iterations=100,\n",
    "                      all_possible_transitions=True)\n",
    "            try: crf.fit(temp_train_x, train_y)\n",
    "            except AttributeError: pass\n",
    "\n",
    "            # Measure performance\n",
    "            prediction = crf.predict(temp_dev_x)\n",
    "            score = metrics.flat_f1_score(dev_y, prediction, average='weighted', labels=list(crf.classes_))\n",
    "            scores.append(score)\n",
    "            print(score)\n",
    "\n",
    "        # Remove worst feature\n",
    "        best_scores.append(np.max(scores))\n",
    "        index_worst_feature = np.argmax(scores)\n",
    "        feature_to_delete = features_to_use[index_worst_feature]\n",
    "        \n",
    "        for sentence in train_x:\n",
    "            for word in sentence:\n",
    "                del word[feature_to_delete]\n",
    "        \n",
    "        for sentence in dev_x:\n",
    "            for word in sentence:\n",
    "                del word[feature_to_delete]\n",
    "        \n",
    "        # Save progress\n",
    "        order_of_removal.append(feature_to_delete)\n",
    "        features_to_use.remove(feature_to_delete)\n",
    "    \n",
    "    return order_of_removal, best_scores"
   ]
  },
  {
   "cell_type": "code",
   "execution_count": 6,
   "id": "efd02a54",
   "metadata": {},
   "outputs": [
    {
     "name": "stdout",
     "output_type": "stream",
     "text": [
      "\n",
      " ['Token', 'Lemma', 'POS', 'POS_TAG', 'Dependency_Head', 'Dependency_Label', 'next', 'prev', 'trigram', 'prev_bigram', 'next_bigram', 'HECT', 'HECA']\n",
      "0.9972501448476203\n",
      "0.9972501448476203\n",
      "0.9971781438385873\n",
      "0.9972501448476203\n",
      "0.9971781438385873\n",
      "0.9972501448476203\n",
      "0.9971781438385873\n",
      "0.9972501448476203\n",
      "0.9970976414723567\n",
      "0.9970976414723567\n",
      "0.9971781438385873\n",
      "0.9971781438385873\n",
      "0.9966703372147931\n",
      "\n",
      " ['Lemma', 'POS', 'POS_TAG', 'Dependency_Head', 'Dependency_Label', 'next', 'prev', 'trigram', 'prev_bigram', 'next_bigram', 'HECT', 'HECA']\n",
      "0.9972501448476203\n",
      "0.9972501448476203\n",
      "0.9972501448476203\n",
      "0.9971781438385873\n",
      "0.9972501448476203\n",
      "0.9971781438385873\n",
      "0.9972501448476203\n",
      "0.9970976414723567\n",
      "0.9970976414723567\n",
      "0.9971063523377965\n",
      "0.9970888227590222\n",
      "0.9966703372147931\n",
      "\n",
      " ['POS', 'POS_TAG', 'Dependency_Head', 'Dependency_Label', 'next', 'prev', 'trigram', 'prev_bigram', 'next_bigram', 'HECT', 'HECA']\n",
      "0.9971781438385873\n",
      "0.9971781438385873\n",
      "0.9972501448476203\n",
      "0.9972501448476203\n",
      "0.9972501448476203\n",
      "0.9971781438385873\n",
      "0.9972501448476203\n",
      "0.9971696162488423\n",
      "0.9971781438385873\n",
      "0.9951891562748939\n",
      "0.9965045456633533\n",
      "\n",
      " ['POS', 'POS_TAG', 'Dependency_Label', 'next', 'prev', 'trigram', 'prev_bigram', 'next_bigram', 'HECT', 'HECA']\n",
      "0.9972501448476203\n",
      "0.9971781438385873\n",
      "0.9972501448476203\n",
      "0.9972501448476203\n",
      "0.9971781438385873\n",
      "0.9972501448476203\n",
      "0.9971696162488423\n",
      "0.9971781438385873\n",
      "0.9951891562748939\n",
      "0.9965045456633533\n",
      "\n",
      " ['POS_TAG', 'Dependency_Label', 'next', 'prev', 'trigram', 'prev_bigram', 'next_bigram', 'HECT', 'HECA']\n",
      "0.9970077619149551\n",
      "0.9972501448476203\n",
      "0.9972501448476203\n",
      "0.9971781438385873\n",
      "0.9972501448476203\n",
      "0.9971696162488423\n",
      "0.9971781438385873\n",
      "0.9949397155721836\n",
      "0.9965045456633533\n",
      "\n",
      " ['POS_TAG', 'next', 'prev', 'trigram', 'prev_bigram', 'next_bigram', 'HECT', 'HECA']\n",
      "0.9967528058056551\n",
      "0.9972501448476203\n",
      "0.9971781438385873\n",
      "0.9972501448476203\n",
      "0.9972501448476203\n",
      "0.9971781438385873\n",
      "0.9937480998303357\n",
      "0.9960889935032997\n",
      "\n",
      " ['POS_TAG', 'prev', 'trigram', 'prev_bigram', 'next_bigram', 'HECT', 'HECA']\n",
      "0.9965045456633533\n",
      "0.9971781438385873\n",
      "0.9972501448476203\n",
      "0.9971696162488423\n",
      "0.9971781438385873\n",
      "0.9933682349461138\n",
      "0.9960889935032997\n",
      "\n",
      " ['POS_TAG', 'prev', 'prev_bigram', 'next_bigram', 'HECT', 'HECA']\n",
      "0.9965875847354807\n",
      "0.9970976414723567\n",
      "0.9970077619149551\n",
      "0.9974901654846495\n",
      "0.9937480998303357\n",
      "0.9965045456633533\n",
      "\n",
      " ['POS_TAG', 'prev', 'prev_bigram', 'HECT', 'HECA']\n",
      "0.9967629501677201\n",
      "0.9966904676580352\n",
      "0.9972061214913029\n",
      "0.9932285949548817\n",
      "0.9961725738042935\n",
      "\n",
      " ['POS_TAG', 'prev', 'HECT', 'HECA']\n",
      "0.9961009206084164\n",
      "0.9965187397501329\n",
      "0.9860740208732119\n",
      "0.9959436316679985\n",
      "\n",
      " ['POS_TAG', 'HECT', 'HECA']\n",
      "0.995758461737477\n",
      "0.9820901453995562\n",
      "0.9956846821324533\n",
      "\n",
      " ['HECT', 'HECA']\n",
      "0.9841873758205376\n",
      "0.995758461737477\n"
     ]
    }
   ],
   "source": [
    "order_of_removal, best_scores = feature_ablation(all_features)"
   ]
  },
  {
   "cell_type": "code",
   "execution_count": 48,
   "id": "b8c8bcb6",
   "metadata": {},
   "outputs": [],
   "source": [
    "order_of_addition = ['HECT', 'HECA', 'POS-tag', 'Prev_token', 'Prev_bigram', 'Next_bigram', 'Trigram',\n",
    "                     'Next_token',  'Dep_label', 'POS', 'Dep_head', 'Lemma', 'Token']\n",
    "scores = [0.9972501448476203, 0.9972501448476203, 0.9972501448476203, 0.9972501448476203, 0.9972501448476203,\n",
    "          0.9972501448476203, 0.9972501448476203, 0.9972501448476203, 0.9974901654846495, 0.9972061214913029,\n",
    "          0.9965187397501329, 0.996258461737477, 0.995758461737477]\n",
    "order_of_addition.reverse()"
   ]
  },
  {
   "cell_type": "code",
   "execution_count": 51,
   "id": "ae07e3e0",
   "metadata": {},
   "outputs": [
    {
     "data": {
      "image/png": "[encoded data removed]",
      "text/plain": [
       "<Figure size 864x432 with 1 Axes>"
      ]
     },
     "metadata": {
      "needs_background": "light"
     },
     "output_type": "display_data"
    }
   ],
   "source": [
    "df_bar = pd.DataFrame({'F1-score': scores}, columns=['F1-score'], index=order_of_addition)\n",
    "\n",
    "ax = df_bar.plot.barh(figsize=(12,6),\n",
    "                      legend=False,\n",
    "                      xlim=(np.min(scores)-0.0001, np.max(scores)+0.0001))\n",
    "\n",
    "ax.text(scores[-1]+0.00001, 12-0.1, order_of_addition[-1:], color='black')\n",
    "for i in range(2, 10):\n",
    "    ax.text(0.99568, 13-i-0.1, order_of_addition[-i:], color='white')\n",
    "\n",
    "plt.title('The effect of adding the next most important feature', size=16)\n",
    "plt.xlabel('F1-score', size=14)\n",
    "plt.ylabel('Last added feature', size=14)\n",
    "plt.savefig('FAS_CRF.pdf', bbox_inches='tight')\n",
    "plt.show()"
   ]
  },
  {
   "cell_type": "code",
   "execution_count": 7,
   "id": "692b10cd",
   "metadata": {},
   "outputs": [],
   "source": [
    "features_to_use = ['HECT', 'HECA', 'POS_TAG', 'prev', 'prev_bigram']\n",
    "\n",
    "print('Train data:')\n",
    "train_x, train_y = generate_input(train_data, features_to_use)\n",
    "print('\\n\\nDevelopment data:')\n",
    "dev_x, dev_y = generate_input(dev_data, features_to_use)\n",
    "\n",
    "print(len(train_data), len(train_x), len(train_y))\n",
    "print(len(dev_data), len(dev_x), len(dev_y))"
   ]
  },
  {
   "cell_type": "code",
   "execution_count": 8,
   "id": "2855aefb",
   "metadata": {},
   "outputs": [
    {
     "data": {
      "text/plain": [
       "0.9974901654846495"
      ]
     },
     "execution_count": 8,
     "metadata": {},
     "output_type": "execute_result"
    }
   ],
   "source": [
    "crf = CRF(algorithm='lbfgs',\n",
    "          c1=0.1,\n",
    "          c2=0.1,\n",
    "          max_iterations=100,\n",
    "          all_possible_transitions=True)\n",
    "try: crf.fit(train_x, train_y)\n",
    "except AttributeError: pass\n",
    "\n",
    "prediction = crf.predict(dev_x)\n",
    "metrics.flat_f1_score(dev_y, prediction, average='weighted', labels=list(crf.classes_))"
   ]
  },
  {
   "cell_type": "markdown",
   "id": "c445489a",
   "metadata": {},
   "source": [
    "# HyperOpt"
   ]
  },
  {
   "cell_type": "code",
   "execution_count": 18,
   "id": "980d873e",
   "metadata": {},
   "outputs": [
    {
     "name": "stdout",
     "output_type": "stream",
     "text": [
      "100%|█████████████████████████████████████████████| 100/100 [02:16<00:00,  1.36s/trial, best loss: -0.9974901654846495]\n"
     ]
    },
    {
     "data": {
      "text/plain": [
       "{'c1': 0.049750683223734174, 'c2': 0.1323605532276545}"
      ]
     },
     "execution_count": 18,
     "metadata": {},
     "output_type": "execute_result"
    }
   ],
   "source": [
    "space = {'c1': hp.uniform('c1', 0.01, 0.99),\n",
    "         'c2': hp.uniform('c2', 0.01, 0.99)}\n",
    "\n",
    "def optimizer(space):\n",
    "    \n",
    "    crf = CRF(algorithm='lbfgs',\n",
    "              c1=space['c1'],\n",
    "              c2=space['c2'],\n",
    "              max_iterations=100,\n",
    "              all_possible_transitions=True)\n",
    "\n",
    "    try: crf.fit(train_x, train_y)\n",
    "    except AttributeError: pass\n",
    "    \n",
    "    prediction = crf.predict(dev_x)\n",
    "    F1_score = metrics.flat_f1_score(dev_y, prediction, average='weighted', labels=list(crf.classes_))\n",
    "    \n",
    "    return {'loss': -F1_score, 'status': STATUS_OK}\n",
    "\n",
    "CRF_trails = Trials()\n",
    "\n",
    "CRF_best = fmin(fn=optimizer,\n",
    "                space=space,\n",
    "                algo=tpe.suggest,\n",
    "                max_evals=100,\n",
    "                trials=CRF_trails)\n",
    "CRF_best"
   ]
  },
  {
   "cell_type": "raw",
   "id": "bc6bbaf0",
   "metadata": {},
   "source": [
    "c1 = 0.16993; c2 = 0.03420\n",
    "c1 = 0.09045; c2 = 0.49679\n",
    "c1 = 0.04975; c2 = 0.13236"
   ]
  },
  {
   "cell_type": "markdown",
   "id": "e0fe266d",
   "metadata": {},
   "source": [
    "# FINAL MODEL"
   ]
  },
  {
   "cell_type": "code",
   "execution_count": 8,
   "id": "d17ec492",
   "metadata": {},
   "outputs": [],
   "source": [
    "crf = CRF(algorithm='lbfgs',\n",
    "          c1=0.04975, # CRF_best['c1'],\n",
    "          c2=0.13236, # CRF_best['c2'],\n",
    "          max_iterations=100,\n",
    "          all_possible_transitions=True)\n",
    "\n",
    "try: crf.fit(train_x, train_y)\n",
    "except AttributeError: pass"
   ]
  },
  {
   "cell_type": "markdown",
   "id": "8e1d642b",
   "metadata": {},
   "source": [
    "# Results on Development data"
   ]
  },
  {
   "cell_type": "code",
   "execution_count": 9,
   "id": "a2df7395",
   "metadata": {},
   "outputs": [
    {
     "data": {
      "text/plain": [
       "0.9974901654846495"
      ]
     },
     "execution_count": 9,
     "metadata": {},
     "output_type": "execute_result"
    }
   ],
   "source": [
    "prediction = crf.predict(dev_x)\n",
    "metrics.flat_f1_score(dev_y, prediction, average='weighted', labels=list(crf.classes_))"
   ]
  },
  {
   "cell_type": "code",
   "execution_count": 12,
   "id": "a40c5608",
   "metadata": {},
   "outputs": [
    {
     "name": "stdout",
     "output_type": "stream",
     "text": [
      "13567 13567\n"
     ]
    },
    {
     "data": {
      "image/png": "[encoded data removed]",
      "text/plain": [
       "<Figure size 432x288 with 2 Axes>"
      ]
     },
     "metadata": {
      "needs_background": "light"
     },
     "output_type": "display_data"
    }
   ],
   "source": [
    "import seaborn as sns\n",
    "\n",
    "def flatten(array):\n",
    "    result = []\n",
    "    for i in array: result.extend(i)\n",
    "    return result\n",
    "\n",
    "dev_y_flat = flatten(dev_y)\n",
    "dev_pred_flat = flatten(prediction)\n",
    "print(len(dev_y_flat), len(dev_pred_flat))\n",
    "\n",
    "confusion_matrix = pd.crosstab(pd.DataFrame(dev_y_flat)[0], pd.DataFrame(dev_pred_flat)[0], rownames=['Actual'], colnames=['Predicted'])\n",
    "sns.heatmap(confusion_matrix, annot=True)\n",
    "plt.suptitle('Confusion matrix for CRF')\n",
    "plt.savefig('CM_CRF.pdf')\n",
    "plt.show()"
   ]
  },
  {
   "cell_type": "code",
   "execution_count": null,
   "id": "4e9dda2f",
   "metadata": {},
   "outputs": [],
   "source": []
  },
  {
   "cell_type": "markdown",
   "id": "190646f6",
   "metadata": {},
   "source": [
    "# Results on Test data"
   ]
  },
  {
   "cell_type": "code",
   "execution_count": 39,
   "id": "017425a7",
   "metadata": {},
   "outputs": [],
   "source": [
    "cardboard_data = pd.read_pickle('Data/SEM-2012-SharedTask-CD-SCO-test-cardboard.Preprocessed.pickle')\n",
    "circle_data = pd.read_pickle('Data/SEM-2012-SharedTask-CD-SCO-test-circle.Preprocessed.pickle')\n",
    "cardboard_data['prev'] = cardboard_data.Token.shift()\n",
    "circle_data['prev'] = circle_data.Token.shift()\n",
    "test_data = pd.concat([cardboard_data, circle_data]).reset_index(drop=True)"
   ]
  },
  {
   "cell_type": "code",
   "execution_count": 43,
   "id": "b4c51c9f",
   "metadata": {},
   "outputs": [
    {
     "name": "stdout",
     "output_type": "stream",
     "text": [
      "Sentence: 593/593"
     ]
    }
   ],
   "source": [
    "features_to_use = ['HECT', 'HECA', 'POS_TAG', 'prev', 'prev_bigram']\n",
    "\n",
    "test_x, test_y = generate_input(cardboard_data, features_to_use)\n",
    "test_x2, test_y2 = generate_input(circle_data, features_to_use)"
   ]
  },
  {
   "cell_type": "code",
   "execution_count": 44,
   "id": "138717a1",
   "metadata": {},
   "outputs": [],
   "source": [
    "for i in test_x2: test_x.append(i)\n",
    "for i in test_y2: test_y.append(i)"
   ]
  },
  {
   "cell_type": "code",
   "execution_count": 45,
   "id": "aa448d57",
   "metadata": {},
   "outputs": [
    {
     "data": {
      "text/plain": [
       "0.9956732484834067"
      ]
     },
     "execution_count": 45,
     "metadata": {},
     "output_type": "execute_result"
    }
   ],
   "source": [
    "pred_test = crf.predict(test_x)\n",
    "metrics.flat_f1_score(test_y, pred_test, average='weighted', labels=list(crf.classes_))"
   ]
  },
  {
   "cell_type": "code",
   "execution_count": 46,
   "id": "e681cc6f",
   "metadata": {},
   "outputs": [
    {
     "name": "stdout",
     "output_type": "stream",
     "text": [
      "19216 19216\n"
     ]
    },
    {
     "data": {
      "image/png": "[encoded data removed]",
      "text/plain": [
       "<Figure size 432x288 with 2 Axes>"
      ]
     },
     "metadata": {
      "needs_background": "light"
     },
     "output_type": "display_data"
    }
   ],
   "source": [
    "test_y_flat = flatten(test_y)\n",
    "test_pred_flat = flatten(pred_test)\n",
    "print(len(test_y_flat), len(test_pred_flat))\n",
    "\n",
    "confusion_matrix = pd.crosstab(pd.DataFrame(test_y_flat)[0], pd.DataFrame(test_pred_flat)[0], rownames=['Actual'], colnames=['Predicted'])\n",
    "sns.heatmap(confusion_matrix, annot=True)\n",
    "plt.suptitle('Confucion matrix CRF on test data')\n",
    "plt.savefig('CM_CRF_test.pdf')\n",
    "plt.show()"
   ]
  },
  {
   "cell_type": "markdown",
   "id": "aa18b9c5",
   "metadata": {},
   "source": [
    "# Save results"
   ]
  },
  {
   "cell_type": "code",
   "execution_count": 47,
   "id": "e55b07ad",
   "metadata": {},
   "outputs": [],
   "source": [
    "def get_baseline_prediction(row):\n",
    "    if row.HECT == 1 or row.HECA == 1:\n",
    "        return 'B-NEG'\n",
    "    return 'O'"
   ]
  },
  {
   "cell_type": "code",
   "execution_count": 48,
   "id": "a0442cdd",
   "metadata": {},
   "outputs": [],
   "source": [
    "dev_data['pred_base'] = dev_data.apply(get_baseline_prediction, axis=1)\n",
    "dev_data['pred_CRF'] = dev_pred_flat\n",
    "\n",
    "test_data['pred_base'] = test_data.apply(get_baseline_prediction, axis=1)\n",
    "test_data['pred_CRF'] = test_pred_flat\n",
    "test_data['Negation_cue'] = test_y_flat\n",
    "\n",
    "columns_to_save = ['Token_ID', 'Token', 'trigram', 'idx_sent', 'HECT', 'HECA', 'Negation_cue', 'pred_CRF']\n",
    "dev_data = dev_data[columns_to_save]\n",
    "test_data = test_data[columns_to_save]"
   ]
  },
  {
   "cell_type": "code",
   "execution_count": 49,
   "id": "5f6283aa",
   "metadata": {},
   "outputs": [
    {
     "data": {
      "text/html": [
       "<div>\n",
       "<style scoped>\n",
       "    .dataframe tbody tr th:only-of-type {\n",
       "        vertical-align: middle;\n",
       "    }\n",
       "\n",
       "    .dataframe tbody tr th {\n",
       "        vertical-align: top;\n",
       "    }\n",
       "\n",
       "    .dataframe thead th {\n",
       "        text-align: right;\n",
       "    }\n",
       "</style>\n",
       "<table border=\"1\" class=\"dataframe\">\n",
       "  <thead>\n",
       "    <tr style=\"text-align: right;\">\n",
       "      <th></th>\n",
       "      <th>Token_ID</th>\n",
       "      <th>Token</th>\n",
       "      <th>trigram</th>\n",
       "      <th>idx_sent</th>\n",
       "      <th>HECT</th>\n",
       "      <th>HECA</th>\n",
       "      <th>Negation_cue</th>\n",
       "      <th>pred_CRF</th>\n",
       "    </tr>\n",
       "  </thead>\n",
       "  <tbody>\n",
       "    <tr>\n",
       "      <th>0</th>\n",
       "      <td>0</td>\n",
       "      <td>1.</td>\n",
       "      <td>1. The Singular</td>\n",
       "      <td>0</td>\n",
       "      <td>0</td>\n",
       "      <td>0</td>\n",
       "      <td>O</td>\n",
       "      <td>O</td>\n",
       "    </tr>\n",
       "    <tr>\n",
       "      <th>1</th>\n",
       "      <td>1</td>\n",
       "      <td>The</td>\n",
       "      <td>1. The Singular</td>\n",
       "      <td>0</td>\n",
       "      <td>0</td>\n",
       "      <td>0</td>\n",
       "      <td>O</td>\n",
       "      <td>O</td>\n",
       "    </tr>\n",
       "    <tr>\n",
       "      <th>2</th>\n",
       "      <td>2</td>\n",
       "      <td>Singular</td>\n",
       "      <td>The Singular Experience</td>\n",
       "      <td>0</td>\n",
       "      <td>0</td>\n",
       "      <td>0</td>\n",
       "      <td>O</td>\n",
       "      <td>O</td>\n",
       "    </tr>\n",
       "    <tr>\n",
       "      <th>3</th>\n",
       "      <td>3</td>\n",
       "      <td>Experience</td>\n",
       "      <td>Singular Experience of</td>\n",
       "      <td>0</td>\n",
       "      <td>0</td>\n",
       "      <td>0</td>\n",
       "      <td>O</td>\n",
       "      <td>O</td>\n",
       "    </tr>\n",
       "    <tr>\n",
       "      <th>4</th>\n",
       "      <td>4</td>\n",
       "      <td>of</td>\n",
       "      <td>Experience of Mr.</td>\n",
       "      <td>0</td>\n",
       "      <td>0</td>\n",
       "      <td>0</td>\n",
       "      <td>O</td>\n",
       "      <td>O</td>\n",
       "    </tr>\n",
       "  </tbody>\n",
       "</table>\n",
       "</div>"
      ],
      "text/plain": [
       "   Token_ID       Token                  trigram  idx_sent  HECT  HECA  \\\n",
       "0         0          1.          1. The Singular         0     0     0   \n",
       "1         1         The          1. The Singular         0     0     0   \n",
       "2         2    Singular  The Singular Experience         0     0     0   \n",
       "3         3  Experience   Singular Experience of         0     0     0   \n",
       "4         4          of        Experience of Mr.         0     0     0   \n",
       "\n",
       "  Negation_cue pred_CRF  \n",
       "0            O        O  \n",
       "1            O        O  \n",
       "2            O        O  \n",
       "3            O        O  \n",
       "4            O        O  "
      ]
     },
     "execution_count": 49,
     "metadata": {},
     "output_type": "execute_result"
    }
   ],
   "source": [
    "dev_data.head()"
   ]
  },
  {
   "cell_type": "code",
   "execution_count": 50,
   "id": "e96fe3f3",
   "metadata": {},
   "outputs": [
    {
     "data": {
      "text/html": [
       "<div>\n",
       "<style scoped>\n",
       "    .dataframe tbody tr th:only-of-type {\n",
       "        vertical-align: middle;\n",
       "    }\n",
       "\n",
       "    .dataframe tbody tr th {\n",
       "        vertical-align: top;\n",
       "    }\n",
       "\n",
       "    .dataframe thead th {\n",
       "        text-align: right;\n",
       "    }\n",
       "</style>\n",
       "<table border=\"1\" class=\"dataframe\">\n",
       "  <thead>\n",
       "    <tr style=\"text-align: right;\">\n",
       "      <th></th>\n",
       "      <th>Token_ID</th>\n",
       "      <th>Token</th>\n",
       "      <th>trigram</th>\n",
       "      <th>idx_sent</th>\n",
       "      <th>HECT</th>\n",
       "      <th>HECA</th>\n",
       "      <th>Negation_cue</th>\n",
       "      <th>pred_CRF</th>\n",
       "    </tr>\n",
       "  </thead>\n",
       "  <tbody>\n",
       "    <tr>\n",
       "      <th>0</th>\n",
       "      <td>0</td>\n",
       "      <td>In</td>\n",
       "      <td>In choosing a</td>\n",
       "      <td>0</td>\n",
       "      <td>0</td>\n",
       "      <td>0</td>\n",
       "      <td>O</td>\n",
       "      <td>O</td>\n",
       "    </tr>\n",
       "    <tr>\n",
       "      <th>1</th>\n",
       "      <td>1</td>\n",
       "      <td>choosing</td>\n",
       "      <td>In choosing a</td>\n",
       "      <td>0</td>\n",
       "      <td>0</td>\n",
       "      <td>0</td>\n",
       "      <td>O</td>\n",
       "      <td>O</td>\n",
       "    </tr>\n",
       "    <tr>\n",
       "      <th>2</th>\n",
       "      <td>2</td>\n",
       "      <td>a</td>\n",
       "      <td>choosing a few</td>\n",
       "      <td>0</td>\n",
       "      <td>0</td>\n",
       "      <td>0</td>\n",
       "      <td>O</td>\n",
       "      <td>O</td>\n",
       "    </tr>\n",
       "    <tr>\n",
       "      <th>3</th>\n",
       "      <td>3</td>\n",
       "      <td>few</td>\n",
       "      <td>a few typical</td>\n",
       "      <td>0</td>\n",
       "      <td>0</td>\n",
       "      <td>0</td>\n",
       "      <td>O</td>\n",
       "      <td>O</td>\n",
       "    </tr>\n",
       "    <tr>\n",
       "      <th>4</th>\n",
       "      <td>4</td>\n",
       "      <td>typical</td>\n",
       "      <td>few typical cases</td>\n",
       "      <td>0</td>\n",
       "      <td>0</td>\n",
       "      <td>0</td>\n",
       "      <td>O</td>\n",
       "      <td>O</td>\n",
       "    </tr>\n",
       "  </tbody>\n",
       "</table>\n",
       "</div>"
      ],
      "text/plain": [
       "   Token_ID     Token            trigram  idx_sent  HECT  HECA Negation_cue  \\\n",
       "0         0        In      In choosing a         0     0     0            O   \n",
       "1         1  choosing      In choosing a         0     0     0            O   \n",
       "2         2         a     choosing a few         0     0     0            O   \n",
       "3         3       few      a few typical         0     0     0            O   \n",
       "4         4   typical  few typical cases         0     0     0            O   \n",
       "\n",
       "  pred_CRF  \n",
       "0        O  \n",
       "1        O  \n",
       "2        O  \n",
       "3        O  \n",
       "4        O  "
      ]
     },
     "execution_count": 50,
     "metadata": {},
     "output_type": "execute_result"
    }
   ],
   "source": [
    "test_data.head()"
   ]
  },
  {
   "cell_type": "code",
   "execution_count": 56,
   "id": "82d5aa09",
   "metadata": {},
   "outputs": [],
   "source": [
    "dev_data.to_csv('CRF_dev_result.csv', index=False)\n",
    "test_data.to_csv('CRF_test_result.csv', index=False)"
   ]
  },
  {
   "cell_type": "code",
   "execution_count": null,
   "id": "7843a088",
   "metadata": {},
   "outputs": [],
   "source": []
  },
  {
   "cell_type": "code",
   "execution_count": null,
   "id": "e45aecc4",
   "metadata": {},
   "outputs": [],
   "source": []
  },
  {
   "cell_type": "code",
   "execution_count": null,
   "id": "b28db599",
   "metadata": {},
   "outputs": [],
   "source": []
  }
 ],
 "metadata": {
  "kernelspec": {
   "display_name": "Python 3",
   "language": "python",
   "name": "python3"
  },
  "language_info": {
   "codemirror_mode": {
    "name": "ipython",
    "version": 3
   },
   "file_extension": ".py",
   "mimetype": "text/x-python",
   "name": "python",
   "nbconvert_exporter": "python",
   "pygments_lexer": "ipython3",
   "version": "3.8.8"
  }
 },
 "nbformat": 4,
 "nbformat_minor": 5
}
