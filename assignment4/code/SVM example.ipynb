{
 "cells": [
  {
   "cell_type": "code",
   "execution_count": 1,
   "id": "736d1b90",
   "metadata": {},
   "outputs": [],
   "source": [
    "# ! pip install hyperopt\n",
    "# ! pip install hyperas\n",
    "import os\n",
    "import sys\n",
    "import time\n",
    "# import warnings\n",
    "import numpy as np\n",
    "import pandas as pd\n",
    "from copy import deepcopy\n",
    "import matplotlib.pyplot as plt\n",
    "from sklearn.svm import SVC\n",
    "from sklearn.metrics import f1_score\n",
    "from IPython.display import display, clear_output\n",
    "\n",
    "import hyperas\n",
    "import hyperopt\n",
    "from hyperas.distributions import uniform, choice\n",
    "from hyperopt import fmin, tpe, hp, STATUS_OK, Trials\n",
    "from hyperas import optim\n",
    "\n",
    "os.chdir(os.getcwd())\n",
    "# warnings.filterwarnings('ignore')"
   ]
  },
  {
   "cell_type": "markdown",
   "id": "fefd7b5b",
   "metadata": {},
   "source": [
    "# Final Pre-Processing"
   ]
  },
  {
   "cell_type": "code",
   "execution_count": 2,
   "id": "63ca3fb3",
   "metadata": {
    "scrolled": true
   },
   "outputs": [],
   "source": [
    "train_data = pd.read_pickle(r\"C:\\Users\\StanvanLoon\\OneDrive - Umbrio B.V\\Documents\\GitHub\\VU_ATM\\assignment3\\Data\\tmtrain.Preprocessed.pickle\")\n",
    "dev_data = pd.read_pickle(r\"C:\\Users\\StanvanLoon\\OneDrive - Umbrio B.V\\Documents\\GitHub\\VU_ATM\\assignment3\\Data\\tmdev.Preprocessed.pickle\")\n",
    "train_data = pd.concat([train_data, dev_data])"
   ]
  },
  {
   "cell_type": "code",
   "execution_count": 3,
   "id": "04c20d71",
   "metadata": {},
   "outputs": [],
   "source": [
    "features = ['Token_vector', 'POS', 'POS_TAG', 'Dependency_Head', 'Dependency_Label', 'next_token_vector',\n",
    "            'prev_token_vector', 'trigram_list_vectors', 'prev_bigram_list_vectors', 'next_bigram_list_vectors',\n",
    "            'HECT', 'HECA']"
   ]
  },
  {
   "cell_type": "code",
   "execution_count": 4,
   "id": "15d67423",
   "metadata": {},
   "outputs": [
    {
     "data": {
      "text/plain": [
       "(79018, 12)"
      ]
     },
     "execution_count": 4,
     "metadata": {},
     "output_type": "execute_result"
    }
   ],
   "source": [
    "train_y = train_data.Negation_cue.values\n",
    "train_data = train_data[features]\n",
    "len(train_data), len(train_data.columns)"
   ]
  },
  {
   "cell_type": "code",
   "execution_count": 5,
   "id": "9eb1741e",
   "metadata": {},
   "outputs": [],
   "source": [
    "categorical_features = ['POS', 'POS_TAG', 'Dependency_Label']\n",
    "train_one_hot_features = pd.get_dummies(train_data[categorical_features]).values"
   ]
  },
  {
   "cell_type": "code",
   "execution_count": 6,
   "id": "a9c09e21",
   "metadata": {},
   "outputs": [],
   "source": [
    "def multiply_vectors(vectors):\n",
    "    result = [[1]*len(vectors[0])]\n",
    "    for vector in vectors: result *= vector\n",
    "    return result[0]\n",
    "    \n",
    "def extract_vectors(row):\n",
    "    result = list(row.Token_vector)\n",
    "    result.extend(row.next_token_vector)\n",
    "    result.extend(row.prev_token_vector)\n",
    "    result.append(row.HECT)\n",
    "    result.append(row.HECA)\n",
    "    result.append(row.Dependency_Head)\n",
    "    result.extend(multiply_vectors(row.trigram_list_vectors))\n",
    "    result.extend(multiply_vectors(row.prev_bigram_list_vectors))\n",
    "    result.extend(multiply_vectors(row.next_bigram_list_vectors))\n",
    "    \n",
    "    return result"
   ]
  },
  {
   "cell_type": "code",
   "execution_count": 7,
   "id": "142c1444",
   "metadata": {},
   "outputs": [],
   "source": [
    "train_x = []\n",
    "for i in range(len(train_data)):\n",
    "    train_x.append(np.append(train_one_hot_features[i], extract_vectors(train_data.iloc[i])))"
   ]
  },
  {
   "cell_type": "code",
   "execution_count": 8,
   "id": "9109ff26",
   "metadata": {},
   "outputs": [
    {
     "data": {
      "text/plain": [
       "(79018, 1904)"
      ]
     },
     "execution_count": 8,
     "metadata": {},
     "output_type": "execute_result"
    }
   ],
   "source": [
    "len(train_x), len(train_x[0])"
   ]
  },
  {
   "cell_type": "markdown",
   "id": "82874ce6",
   "metadata": {},
   "source": [
    "# SVM example"
   ]
  },
  {
   "cell_type": "code",
   "execution_count": 9,
   "id": "6d3131ed",
   "metadata": {},
   "outputs": [
    {
     "data": {
      "text/plain": [
       "Pipeline(steps=[('standardscaler', StandardScaler()),\n",
       "                ('svc', SVC(gamma='auto'))])"
      ]
     },
     "execution_count": 9,
     "metadata": {},
     "output_type": "execute_result"
    }
   ],
   "source": [
    "from sklearn import pipeline\n",
    "from sklearn.preprocessing import StandardScaler\n",
    "\n",
    "svm = pipeline.make_pipeline(StandardScaler(), SVC(gamma='auto'))\n",
    "svm.fit(train_x[:1000], train_y[:1000])\n",
    "pipeline.Pipeline(steps=[('standardscaler', StandardScaler()),\n",
    "                ('svc', SVC(gamma='auto'))])"
   ]
  },
  {
   "cell_type": "markdown",
   "id": "07787d91",
   "metadata": {},
   "source": [
    "### Prediction using train data as example"
   ]
  },
  {
   "cell_type": "code",
   "execution_count": 10,
   "id": "8a3cbe93",
   "metadata": {},
   "outputs": [
    {
     "name": "stdout",
     "output_type": "stream",
     "text": [
      "Wall time: 1min 1s\n"
     ]
    },
    {
     "data": {
      "text/plain": [
       "0.9803877777801614"
      ]
     },
     "execution_count": 10,
     "metadata": {},
     "output_type": "execute_result"
    }
   ],
   "source": [
    "%%time\n",
    "prediction = svm.predict(train_x)\n",
    "f1_score(train_y, prediction, average='weighted')"
   ]
  },
  {
   "cell_type": "code",
   "execution_count": 11,
   "id": "30ffd403",
   "metadata": {},
   "outputs": [
    {
     "data": {
      "image/png": "[encoded data removed]",
      "text/plain": [
       "<Figure size 432x288 with 2 Axes>"
      ]
     },
     "metadata": {
      "needs_background": "light"
     },
     "output_type": "display_data"
    }
   ],
   "source": [
    "import seaborn as sns\n",
    "\n",
    "confusion_matrix = pd.crosstab(pd.DataFrame(train_y)[0], pd.DataFrame(prediction)[0], rownames=['Actual'], colnames=['Predicted'])\n",
    "sns.heatmap(confusion_matrix, annot=True)\n",
    "plt.suptitle('Confusion matrix for SVM')\n",
    "plt.show()"
   ]
  },
  {
   "cell_type": "code",
   "execution_count": null,
   "id": "fe8bfa39",
   "metadata": {},
   "outputs": [],
   "source": []
  },
  {
   "cell_type": "code",
   "execution_count": null,
   "id": "204d94e1",
   "metadata": {},
   "outputs": [],
   "source": []
  },
  {
   "cell_type": "code",
   "execution_count": null,
   "id": "04c66f25",
   "metadata": {},
   "outputs": [],
   "source": []
  },
  {
   "cell_type": "markdown",
   "id": "acd5870d",
   "metadata": {},
   "source": [
    "# Feature Ablation Study"
   ]
  },
  {
   "cell_type": "code",
   "execution_count": null,
   "id": "521f0c83",
   "metadata": {},
   "outputs": [],
   "source": []
  },
  {
   "cell_type": "code",
   "execution_count": null,
   "id": "e421aa2f",
   "metadata": {},
   "outputs": [],
   "source": []
  },
  {
   "cell_type": "code",
   "execution_count": null,
   "id": "a7c0dfb1",
   "metadata": {},
   "outputs": [],
   "source": []
  },
  {
   "cell_type": "markdown",
   "id": "c445489a",
   "metadata": {},
   "source": [
    "# HyperOpt"
   ]
  },
  {
   "cell_type": "code",
   "execution_count": 12,
   "id": "980d873e",
   "metadata": {},
   "outputs": [
    {
     "name": "stdout",
     "output_type": "stream",
     "text": [
      "100%|████████████████████████████████████████████████████████████████| 2/2 [00:00<00:00, 61.04trial/s, best loss: -1.0]\n"
     ]
    },
    {
     "data": {
      "text/plain": [
       "{'C': 4.889373872966958, 'gamma': 0, 'kernel': 0}"
      ]
     },
     "execution_count": 12,
     "metadata": {},
     "output_type": "execute_result"
    }
   ],
   "source": [
    "space = {'C': hp.uniform('C', 0.01, 5), # Gives the upper an lower limit\n",
    "         'kernel': hp.choice('kernel', ['linear', 'poly', 'rbf']), # HyperOpt has to choose one\n",
    "         'gamma': hp.choice('gamma', ['scale', 'auto'])} # HyperOpt has to choose one\n",
    "\n",
    "def optimizer(space):\n",
    "    \n",
    "    svm = SVC(C=space['C'],\n",
    "              kernel=space['kernel'],\n",
    "              gamma=space['gamma'])\n",
    "    \n",
    "    svm.fit(train_x[:100], train_y[:100])\n",
    "    \n",
    "    prediction = svm.predict(train_x[:100])\n",
    "    F1_score = f1_score(train_y[:100], prediction, average='weighted')\n",
    "    \n",
    "    return {'loss': -F1_score, 'status': STATUS_OK}\n",
    "\n",
    "SVM_trails = Trials()\n",
    "\n",
    "SVM_best = fmin(fn=optimizer,\n",
    "                space=space,\n",
    "                algo=tpe.suggest,\n",
    "                max_evals=2, # Set to a 100 or so for the final run when u know everything is working\n",
    "                trials=SVM_trails)\n",
    "SVM_best"
   ]
  },
  {
   "cell_type": "code",
   "execution_count": 13,
   "id": "eac00f6b",
   "metadata": {},
   "outputs": [
    {
     "data": {
      "text/plain": [
       "{'C': 4.889373872966958, 'gamma': 'scale', 'kernel': 'linear'}"
      ]
     },
     "execution_count": 13,
     "metadata": {},
     "output_type": "execute_result"
    }
   ],
   "source": [
    "SVM_best = hyperopt.space_eval(space, SVM_best)\n",
    "SVM_best"
   ]
  },
  {
   "cell_type": "code",
   "execution_count": 14,
   "id": "d17ec492",
   "metadata": {},
   "outputs": [
    {
     "data": {
      "text/plain": [
       "1.0"
      ]
     },
     "execution_count": 14,
     "metadata": {},
     "output_type": "execute_result"
    }
   ],
   "source": [
    "svm = SVC(C=SVM_best['C'],\n",
    "          kernel=SVM_best['kernel'],\n",
    "          gamma=SVM_best['gamma'])\n",
    "\n",
    "svm.fit(train_x[:100], train_y[:100])\n",
    "\n",
    "prediction = svm.predict(train_x[:100])\n",
    "f1_score(train_y[:100], prediction, average='weighted')"
   ]
  },
  {
   "cell_type": "code",
   "execution_count": 15,
   "id": "a40c5608",
   "metadata": {},
   "outputs": [
    {
     "data": {
      "image/png": "[encoded data removed]",
      "text/plain": [
       "<Figure size 432x288 with 2 Axes>"
      ]
     },
     "metadata": {
      "needs_background": "light"
     },
     "output_type": "display_data"
    }
   ],
   "source": [
    "confusion_matrix = pd.crosstab(pd.DataFrame(train_y[:100])[0], pd.DataFrame(prediction)[0], rownames=['Actual'], colnames=['Predicted'])\n",
    "sns.heatmap(confusion_matrix, annot=True)\n",
    "plt.suptitle('Confusion matrix for SVM')\n",
    "plt.savefig('CM_SVM.pdf')\n",
    "plt.show()"
   ]
  },
  {
   "cell_type": "code",
   "execution_count": null,
   "id": "4e9dda2f",
   "metadata": {},
   "outputs": [],
   "source": []
  },
  {
   "cell_type": "markdown",
   "id": "190646f6",
   "metadata": {},
   "source": [
    "# Results on the test data"
   ]
  },
  {
   "cell_type": "code",
   "execution_count": null,
   "id": "017425a7",
   "metadata": {},
   "outputs": [],
   "source": []
  }
 ],
 "metadata": {
  "kernelspec": {
   "display_name": "Python 3",
   "language": "python",
   "name": "python3"
  },
  "language_info": {
   "codemirror_mode": {
    "name": "ipython",
    "version": 3
   },
   "file_extension": ".py",
   "mimetype": "text/x-python",
   "name": "python",
   "nbconvert_exporter": "python",
   "pygments_lexer": "ipython3",
   "version": "3.8.8"
  }
 },
 "nbformat": 4,
 "nbformat_minor": 5
}
