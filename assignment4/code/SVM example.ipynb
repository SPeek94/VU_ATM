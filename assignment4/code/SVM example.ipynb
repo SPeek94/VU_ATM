{
 "cells": [
  {
   "cell_type": "code",
   "execution_count": 1,
   "id": "736d1b90",
   "metadata": {},
   "outputs": [],
   "source": [
    "# ! pip install hyperopt\n",
    "# ! pip install hyperas\n",
    "import os\n",
    "import sys\n",
    "import time\n",
    "import random\n",
    "import warnings\n",
    "import seaborn as sns\n",
    "import numpy as np\n",
    "import pandas as pd\n",
    "from copy import deepcopy\n",
    "import matplotlib.pyplot as plt\n",
    "from sklearn.svm import SVC\n",
    "from sklearn import pipeline\n",
    "from sklearn.preprocessing import StandardScaler\n",
    "from sklearn.metrics import f1_score\n",
    "from IPython.display import display, clear_output\n",
    "\n",
    "import hyperas\n",
    "import hyperopt\n",
    "from hyperas.distributions import uniform, choice\n",
    "from hyperopt import fmin, tpe, hp, STATUS_OK, Trials\n",
    "from hyperas import optim\n",
    "\n",
    "os.chdir(os.getcwd())\n",
    "warnings.filterwarnings('ignore')"
   ]
  },
  {
   "cell_type": "markdown",
   "id": "fefd7b5b",
   "metadata": {},
   "source": [
    "# Final Pre-Processing"
   ]
  },
  {
   "cell_type": "code",
   "execution_count": 2,
   "id": "63ca3fb3",
   "metadata": {
    "scrolled": true
   },
   "outputs": [
    {
     "data": {
      "text/plain": [
       "Index(['Token_ID', 'Token', 'Lemma', 'POS', 'POS_TAG', 'Dependency_Head',\n",
       "       'Dependency_Label', 'idx_sent', 'Negation_cue', 'Token_vector',\n",
       "       'next_token', 'next_token_vector', 'prev_token', 'prev_token_vector',\n",
       "       'trigram', 'trigram_list_tokens', 'trigram_list_vectors', 'prev_bigram',\n",
       "       'prev_bigram_list_tokens', 'prev_bigram_list_vectors', 'next_bigram',\n",
       "       'next_bigram_list_tokens', 'next_bigram_list_vectors', 'HECT', 'HECA'],\n",
       "      dtype='object')"
      ]
     },
     "execution_count": 2,
     "metadata": {},
     "output_type": "execute_result"
    }
   ],
   "source": [
    "train_data = pd.read_pickle(r\"C:\\Users\\StanvanLoon\\OneDrive - Umbrio B.V\\Documents\\GitHub\\VU_ATM\\assignment3\\Data\\tmtrain.Preprocessed.pickle\")\n",
    "dev_data = pd.read_pickle(r\"C:\\Users\\StanvanLoon\\OneDrive - Umbrio B.V\\Documents\\GitHub\\VU_ATM\\assignment3\\Data\\tmdev.Preprocessed.pickle\")\n",
    "train_data = pd.concat([train_data, dev_data]).reset_index(drop=True)\n",
    "train_data.columns"
   ]
  },
  {
   "cell_type": "markdown",
   "id": "acd5870d",
   "metadata": {},
   "source": [
    "# Feature Ablation Study"
   ]
  },
  {
   "cell_type": "code",
   "execution_count": 3,
   "id": "a9c09e21",
   "metadata": {},
   "outputs": [],
   "source": [
    "def sum_vectors(vectors):\n",
    "    vectors = deepcopy(vectors)\n",
    "    result = vectors[0]\n",
    "    for i in range(1, len(vectors)): result *= vectors[i]\n",
    "    return result.tolist()\n",
    "    \n",
    "def get_vector_features(row, features):\n",
    "    result = []\n",
    "\n",
    "    # Add boolean features\n",
    "    if 'HECT' in features: result.append(row.HECT)\n",
    "    if 'HECA' in features: result.append(row.HECA)\n",
    "\n",
    "    # Add vector features\n",
    "    if 'Token_vector' in features: result.extend(list(row.Token_vector))\n",
    "    if 'next_token_vector' in features: result.extend(row.next_token_vector)\n",
    "    if 'prev_token_vector' in features: result.extend(row.prev_token_vector)\n",
    "    if 'Dependency_Head' in features: result.append(row.Dependency_Head)\n",
    "\n",
    "    # Add multiple-vector features\n",
    "    if 'trigram_list_vectors' in features: result.extend(sum_vectors(row.trigram_list_vectors))\n",
    "    if 'prev_bigram_list_vectors' in features: result.extend(sum_vectors(row.prev_bigram_list_vectors))\n",
    "    if 'next_bigram_list_vectors' in features: result.extend(sum_vectors(row.next_bigram_list_vectors))\n",
    "\n",
    "    return result\n",
    "\n",
    "def get_categorical_features(features, data):\n",
    "    return pd.get_dummies(data[features]).values\n",
    "\n",
    "def get_features(features, data):\n",
    "    X = []\n",
    "    vec_features = []\n",
    "    cat_features = []\n",
    "    all_vec_features = ['Token_vector', 'next_token_vector', 'prev_token_vector', 'trigram_list_vectors', 'prev_bigram_list_vectors', 'next_bigram_list_vectors', 'HECT', 'HECA']\n",
    "    all_cat_features = ['POS', 'POS_TAG', 'Dependency_Label']\n",
    "    \n",
    "    # Classify features\n",
    "    for feature in features:\n",
    "        if feature in all_vec_features: vec_features.append(feature)\n",
    "        if feature in all_cat_features: cat_features.append(feature)\n",
    "    \n",
    "    # If both vector and categorical features exist\n",
    "    if vec_features and cat_features:\n",
    "        cat_values = get_categorical_features(cat_features, data)\n",
    "        for i in range(len(data)):\n",
    "            X.append(np.append(cat_values[i], get_vector_features(data.iloc[i], vec_features)))\n",
    "    \n",
    "    # Only vector features\n",
    "    elif vec_features:\n",
    "        X = data.apply(get_vector_features, args=(vec_features,), axis=1).tolist()\n",
    "    \n",
    "    # Only categorical features\n",
    "    elif cat_features:\n",
    "        X = get_categorical_features(cat_features, data)\n",
    "\n",
    "    return X"
   ]
  },
  {
   "cell_type": "code",
   "execution_count": 42,
   "id": "a9de9e3d",
   "metadata": {},
   "outputs": [],
   "source": [
    "def feature_ablation(all_features):\n",
    "    \n",
    "    best_scores = []\n",
    "    order_of_removal = []\n",
    "    features_to_use = all_features.copy()\n",
    "    \n",
    "    while len(features_to_use) > 1:\n",
    "        \n",
    "        scores = []\n",
    "        print('\\n', features_to_use)\n",
    "\n",
    "        for feature in features_to_use:\n",
    "            \n",
    "            # Get new feature list\n",
    "            temp_features = deepcopy(features_to_use)\n",
    "            temp_features.remove(feature)\n",
    "            \n",
    "            # Generate new data\n",
    "#             sample = random.sample(range(len(train_data)), int(len(train_data)*0.10))\n",
    "#             X = pd.DataFrame(get_features(temp_features, deepcopy(train_data.iloc[sample])))\n",
    "#             y = pd.DataFrame(train_data.loc[sample, 'Negation_cue'])\n",
    "            \n",
    "#             sample = range(len(sample))\n",
    "#             split = int(len(sample)*0.75)\n",
    "#             train_sample = sample[:split]\n",
    "#             dev_sample = sample[split:]\n",
    "            \n",
    "#             train_x = X.iloc[train_sample].values\n",
    "#             train_y = y.iloc[train_sample].values\n",
    "#             dev_x = X.iloc[dev_sample].values\n",
    "#             dev_y = y.iloc[dev_sample].values\n",
    "\n",
    "            sample = random.sample(range(len(train_data)), int(len(train_data)*0.02))\n",
    "            X = get_features(temp_features, deepcopy(train_data.iloc[sample]))\n",
    "            y = train_data.loc[sample, 'Negation_cue'].values\n",
    "            \n",
    "            split = int(len(y)*0.75)\n",
    "            \n",
    "            train_x = X[:split]\n",
    "            train_y = y[:split]\n",
    "            dev_x = X[split:]\n",
    "            dev_y = y[split:]\n",
    "                        \n",
    "            # Build new classifier\n",
    "            svm = pipeline.make_pipeline(StandardScaler(), SVC(gamma='auto'))\n",
    "            svm.fit(train_x, train_y)\n",
    "\n",
    "            # Measure performance\n",
    "            prediction = svm.predict(dev_x)\n",
    "            score = f1_score(dev_y, prediction, average='weighted')\n",
    "            scores.append(score)\n",
    "            print(score)\n",
    "\n",
    "        # Remove worst feature\n",
    "        best_scores.append(np.max(scores))\n",
    "        index_worst_feature = np.argmax(scores)\n",
    "        feature_to_delete = features_to_use[index_worst_feature]\n",
    "        \n",
    "        # Save progress\n",
    "        order_of_removal.append(feature_to_delete)\n",
    "        features_to_use.remove(feature_to_delete)\n",
    "    \n",
    "    return order_of_removal, best_scores"
   ]
  },
  {
   "cell_type": "code",
   "execution_count": 43,
   "id": "65fc7c1c",
   "metadata": {
    "scrolled": true
   },
   "outputs": [
    {
     "name": "stdout",
     "output_type": "stream",
     "text": [
      "\n",
      " ['Token_vector', 'POS', 'POS_TAG', 'Dependency_Head', 'Dependency_Label', 'next_token_vector', 'prev_token_vector', 'trigram_list_vectors', 'prev_bigram_list_vectors', 'next_bigram_list_vectors', 'HECT', 'HECA']\n",
      "0.969723849914209\n",
      "0.9772733143890469\n",
      "0.9884528625491695\n",
      "0.9873676713393117\n",
      "0.9924114887875087\n",
      "0.986523723413416\n",
      "0.9873676713393117\n",
      "0.9943102722652077\n",
      "0.9962041359836998\n",
      "0.9973726125624859\n",
      "0.9772733143890469\n",
      "0.9934965290464013\n",
      "\n",
      " ['Token_vector', 'POS', 'POS_TAG', 'Dependency_Head', 'Dependency_Label', 'next_token_vector', 'prev_token_vector', 'trigram_list_vectors', 'prev_bigram_list_vectors', 'HECT', 'HECA']\n",
      "0.98105297105539\n",
      "0.9734969364825324\n",
      "0.9775871294858636\n",
      "0.9924114887875087\n",
      "0.9878740668614086\n",
      "0.9810712310045231\n",
      "0.9972168023865193\n",
      "1.0\n",
      "0.9848344381594515\n",
      "0.9848358939672109\n",
      "0.9911440904020564\n",
      "\n",
      " ['Token_vector', 'POS', 'POS_TAG', 'Dependency_Head', 'Dependency_Label', 'next_token_vector', 'prev_token_vector', 'prev_bigram_list_vectors', 'HECT', 'HECA']\n",
      "0.98105297105539\n",
      "0.9803115871470302\n",
      "0.994436871145732\n",
      "0.9882116863536278\n",
      "0.9973293282261012\n",
      "0.9791721972223121\n",
      "1.0\n",
      "0.9978886869434215\n",
      "0.9886220706737651\n",
      "0.9915433864800953\n",
      "\n",
      " ['Token_vector', 'POS', 'POS_TAG', 'Dependency_Head', 'Dependency_Label', 'next_token_vector', 'prev_bigram_list_vectors', 'HECT', 'HECA']\n",
      "0.991153827452633\n",
      "0.9949367088607595\n",
      "0.9878740668614086\n",
      "0.9949367088607595\n",
      "0.997647569624872\n",
      "0.9890425520375734\n",
      "0.994436871145732\n",
      "0.9886220706737651\n",
      "0.9852729005036069\n",
      "\n",
      " ['Token_vector', 'POS', 'POS_TAG', 'Dependency_Head', 'next_token_vector', 'prev_bigram_list_vectors', 'HECT', 'HECA']\n",
      "0.9849482254545546\n",
      "0.9913840145003109\n",
      "0.9945815700676721\n",
      "0.98105297105539\n",
      "0.9838661170449366\n",
      "0.9907921265407078\n",
      "0.9943102722652077\n",
      "0.9835684914939933\n",
      "\n",
      " ['Token_vector', 'POS', 'Dependency_Head', 'next_token_vector', 'prev_bigram_list_vectors', 'HECT', 'HECA']\n",
      "0.9970480219173382\n",
      "1.0\n",
      "0.9775871294858636\n",
      "0.9915433864800953\n",
      "0.9852565042438461\n",
      "0.9924114887875087\n",
      "0.9918674177076622\n",
      "\n",
      " ['Token_vector', 'Dependency_Head', 'next_token_vector', 'prev_bigram_list_vectors', 'HECT', 'HECA']\n",
      "0.9878740668614086\n",
      "1.0\n",
      "0.9919879846783037\n",
      "0.9970480219173382\n",
      "0.9940992852837337\n",
      "0.9772733143890469\n",
      "\n",
      " ['Token_vector', 'next_token_vector', 'prev_bigram_list_vectors', 'HECT', 'HECA']\n",
      "0.990141094896396\n",
      "0.9940992852837337\n",
      "0.9916602694977541\n",
      "0.9873676713393117\n",
      "0.9791721972223121\n",
      "\n",
      " ['Token_vector', 'prev_bigram_list_vectors', 'HECT', 'HECA']\n",
      "0.9928221419039747\n",
      "0.9974033739720428\n",
      "0.991153827452633\n",
      "0.9943102722652077\n",
      "\n",
      " ['Token_vector', 'HECT', 'HECA']\n",
      "1.0\n",
      "0.9873677377474845\n",
      "0.988367513819383\n",
      "\n",
      " ['HECT', 'HECA']\n",
      "0.9886220706737651\n",
      "1.0\n"
     ]
    }
   ],
   "source": [
    "all_features = ['Token_vector', 'POS', 'POS_TAG', 'Dependency_Head', 'Dependency_Label', 'next_token_vector',\n",
    "                'prev_token_vector', 'trigram_list_vectors', 'prev_bigram_list_vectors', 'next_bigram_list_vectors',\n",
    "                'HECT', 'HECA']\n",
    "\n",
    "order_of_removal, best_scores = feature_ablation(all_features)"
   ]
  },
  {
   "cell_type": "code",
   "execution_count": 44,
   "id": "6e46dd68",
   "metadata": {},
   "outputs": [],
   "source": [
    "order_of_removal.reverse()\n",
    "order_of_removal.append('Use all features')\n",
    "\n",
    "best_scores.reverse()\n",
    "best_scores.append(best_scores[-1])"
   ]
  },
  {
   "cell_type": "code",
   "execution_count": 45,
   "id": "5227f1c9",
   "metadata": {},
   "outputs": [
    {
     "data": {
      "image/png": "[encoded data removed]",
      "text/plain": [
       "<Figure size 864x432 with 1 Axes>"
      ]
     },
     "metadata": {
      "needs_background": "light"
     },
     "output_type": "display_data"
    }
   ],
   "source": [
    "df_bar = pd.DataFrame({'F1-score': best_scores}, columns=['F1-score'], index=order_of_removal)\n",
    "\n",
    "df_bar.plot.barh(figsize=(12,6),\n",
    "                 legend=False,\n",
    "                 xlim=(np.min(best_scores)-0.0001, np.max(best_scores)+0.0001))\n",
    "\n",
    "plt.title('The effect of ablating the least important feature', size=16)\n",
    "plt.xlabel('F1-score', size=14)\n",
    "plt.ylabel('Last ablated feature', size=14)\n",
    "plt.savefig('FAS_CRF.pdf')\n",
    "plt.show()"
   ]
  },
  {
   "cell_type": "code",
   "execution_count": null,
   "id": "e421aa2f",
   "metadata": {},
   "outputs": [],
   "source": []
  },
  {
   "cell_type": "code",
   "execution_count": 46,
   "id": "a7c0dfb1",
   "metadata": {},
   "outputs": [],
   "source": [
    "features_to_use = ['HECT', 'HECA', 'next_bigram_list_vectors', 'Dependency_label', 'prev_bigram_list_vectors']\n",
    "X = get_features(features_to_use, deepcopy(train_data))\n",
    "y = train_data.Negation_cue.values\n",
    "\n",
    "split = int(len(X)*0.75)\n",
    "\n",
    "train_x = X[:split]\n",
    "dev_x = X[split:]\n",
    "train_y = y[:split]\n",
    "dev_y = y[split:]"
   ]
  },
  {
   "cell_type": "markdown",
   "id": "c445489a",
   "metadata": {},
   "source": [
    "# HyperOpt"
   ]
  },
  {
   "cell_type": "code",
   "execution_count": 47,
   "id": "980d873e",
   "metadata": {},
   "outputs": [
    {
     "name": "stdout",
     "output_type": "stream",
     "text": [
      "100%|███████████████████████████████████████████████| 10/10 [00:26<00:00,  2.69s/trial, best loss: -0.9961706705128797]\n"
     ]
    },
    {
     "data": {
      "text/plain": [
       "{'C': 0.10516787275305317, 'gamma': 0, 'kernel': 0}"
      ]
     },
     "execution_count": 47,
     "metadata": {},
     "output_type": "execute_result"
    }
   ],
   "source": [
    "space = {'C': hp.uniform('C', 0.01, 5), # Gives the upper an lower limit\n",
    "         'kernel': hp.choice('kernel', ['linear', 'poly', 'rbf']), # HyperOpt has to choose one\n",
    "         'gamma': hp.choice('gamma', ['scale', 'auto'])} # HyperOpt has to choose one\n",
    "\n",
    "def optimizer(space):\n",
    "    \n",
    "    svm = SVC(C=space['C'],\n",
    "              kernel=space['kernel'],\n",
    "              gamma=space['gamma'])\n",
    "    \n",
    "    svm.fit(train_x[:1000], train_y[:1000])\n",
    "    \n",
    "    prediction = svm.predict(dev_x)\n",
    "    F1_score = f1_score(dev_y, prediction, average='weighted')\n",
    "    \n",
    "    return {'loss': -F1_score, 'status': STATUS_OK}\n",
    "\n",
    "SVM_trails = Trials()\n",
    "\n",
    "SVM_best = fmin(fn=optimizer,\n",
    "                space=space,\n",
    "                algo=tpe.suggest,\n",
    "                max_evals=10, # Set to a 100 or so for the final run when u know everything is working\n",
    "                trials=SVM_trails)\n",
    "SVM_best"
   ]
  },
  {
   "cell_type": "code",
   "execution_count": 48,
   "id": "eac00f6b",
   "metadata": {},
   "outputs": [
    {
     "data": {
      "text/plain": [
       "{'C': 0.10516787275305317, 'gamma': 'scale', 'kernel': 'linear'}"
      ]
     },
     "execution_count": 48,
     "metadata": {},
     "output_type": "execute_result"
    }
   ],
   "source": [
    "SVM_best = hyperopt.space_eval(space, SVM_best)\n",
    "SVM_best"
   ]
  },
  {
   "cell_type": "code",
   "execution_count": 49,
   "id": "d17ec492",
   "metadata": {},
   "outputs": [
    {
     "data": {
      "text/plain": [
       "0.9961706705128797"
      ]
     },
     "execution_count": 49,
     "metadata": {},
     "output_type": "execute_result"
    }
   ],
   "source": [
    "svm = SVC(C=SVM_best['C'],\n",
    "          kernel=SVM_best['kernel'],\n",
    "          gamma=SVM_best['gamma'])\n",
    "\n",
    "svm.fit(train_x[:1000], train_y[:1000])\n",
    "\n",
    "prediction = svm.predict(dev_x)\n",
    "f1_score(dev_y, prediction, average='weighted')"
   ]
  },
  {
   "cell_type": "code",
   "execution_count": 50,
   "id": "a40c5608",
   "metadata": {},
   "outputs": [
    {
     "data": {
      "image/png": "[encoded data removed]",
      "text/plain": [
       "<Figure size 432x288 with 2 Axes>"
      ]
     },
     "metadata": {
      "needs_background": "light"
     },
     "output_type": "display_data"
    }
   ],
   "source": [
    "confusion_matrix = pd.crosstab(pd.DataFrame(train_y[:1000])[0], pd.DataFrame(prediction)[0], rownames=['Actual'], colnames=['Predicted'])\n",
    "sns.heatmap(confusion_matrix, annot=True)\n",
    "plt.suptitle('Confusion matrix for SVM')\n",
    "plt.savefig('CM_SVM.pdf')\n",
    "plt.show()"
   ]
  },
  {
   "cell_type": "code",
   "execution_count": null,
   "id": "4e9dda2f",
   "metadata": {},
   "outputs": [],
   "source": []
  },
  {
   "cell_type": "markdown",
   "id": "190646f6",
   "metadata": {},
   "source": [
    "# Results on the test data"
   ]
  },
  {
   "cell_type": "code",
   "execution_count": null,
   "id": "017425a7",
   "metadata": {},
   "outputs": [],
   "source": []
  }
 ],
 "metadata": {
  "kernelspec": {
   "display_name": "Python 3",
   "language": "python",
   "name": "python3"
  },
  "language_info": {
   "codemirror_mode": {
    "name": "ipython",
    "version": 3
   },
   "file_extension": ".py",
   "mimetype": "text/x-python",
   "name": "python",
   "nbconvert_exporter": "python",
   "pygments_lexer": "ipython3",
   "version": "3.8.8"
  }
 },
 "nbformat": 4,
 "nbformat_minor": 5
}
