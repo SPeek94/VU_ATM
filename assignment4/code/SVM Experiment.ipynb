{
 "cells": [
  {
   "cell_type": "code",
   "execution_count": 1,
   "id": "736d1b90",
   "metadata": {},
   "outputs": [],
   "source": [
    "# ! pip install hyperopt\n",
    "# ! pip install hyperas\n",
    "import os\n",
    "import sys\n",
    "import time\n",
    "import random\n",
    "import warnings\n",
    "import seaborn as sns\n",
    "import numpy as np\n",
    "import pandas as pd\n",
    "from copy import deepcopy\n",
    "import matplotlib.pyplot as plt\n",
    "from sklearn.svm import SVC\n",
    "from sklearn import pipeline\n",
    "from sklearn.preprocessing import StandardScaler\n",
    "from sklearn.metrics import f1_score\n",
    "from IPython.display import display, clear_output\n",
    "\n",
    "import hyperas\n",
    "import hyperopt\n",
    "from hyperas.distributions import uniform, choice\n",
    "from hyperopt import fmin, tpe, hp, STATUS_OK, Trials\n",
    "from hyperas import optim\n",
    "\n",
    "os.chdir(os.getcwd())\n",
    "warnings.filterwarnings('ignore')"
   ]
  },
  {
   "cell_type": "markdown",
   "id": "fefd7b5b",
   "metadata": {},
   "source": [
    "# Final Pre-Processing"
   ]
  },
  {
   "cell_type": "code",
   "execution_count": 2,
   "id": "63ca3fb3",
   "metadata": {
    "scrolled": true
   },
   "outputs": [
    {
     "data": {
      "text/plain": [
       "Index(['Token_ID', 'Token', 'Lemma', 'POS', 'POS_TAG', 'Dependency_Head',\n",
       "       'Dependency_Label', 'idx_sent', 'Negation_cue', 'Token_vector',\n",
       "       'next_token', 'next_token_vector', 'prev_token', 'prev_token_vector',\n",
       "       'trigram', 'trigram_list_tokens', 'trigram_list_vectors', 'prev_bigram',\n",
       "       'prev_bigram_list_tokens', 'prev_bigram_list_vectors', 'next_bigram',\n",
       "       'next_bigram_list_tokens', 'next_bigram_list_vectors', 'HECT', 'HECA'],\n",
       "      dtype='object')"
      ]
     },
     "execution_count": 2,
     "metadata": {},
     "output_type": "execute_result"
    }
   ],
   "source": [
    "train_data = pd.read_pickle(r\"C:\\Users\\StanvanLoon\\OneDrive - Umbrio B.V\\Documents\\GitHub\\VU_ATM\\assignment3\\Data\\tmtrain.Preprocessed.pickle\")\n",
    "dev_data = pd.read_pickle(r\"C:\\Users\\StanvanLoon\\OneDrive - Umbrio B.V\\Documents\\GitHub\\VU_ATM\\assignment3\\Data\\tmdev.Preprocessed.pickle\")\n",
    "train_data = pd.concat([train_data, dev_data]).reset_index(drop=True)\n",
    "train_data.columns"
   ]
  },
  {
   "cell_type": "markdown",
   "id": "acd5870d",
   "metadata": {},
   "source": [
    "# Feature Ablation Study"
   ]
  },
  {
   "cell_type": "code",
   "execution_count": 3,
   "id": "a9c09e21",
   "metadata": {},
   "outputs": [],
   "source": [
    "def sum_vectors(vectors):\n",
    "    vectors = deepcopy(vectors)\n",
    "    result = vectors[0]\n",
    "    for i in range(1, len(vectors)): result *= vectors[i]\n",
    "    return result.tolist()\n",
    "    \n",
    "def get_vector_features(row, features):\n",
    "    result = []\n",
    "\n",
    "    # Add boolean features\n",
    "    if 'HECT' in features: result.append(row.HECT)\n",
    "    if 'HECA' in features: result.append(row.HECA)\n",
    "\n",
    "    # Add vector features\n",
    "    if 'Token_vector' in features: result.extend(list(row.Token_vector))\n",
    "    if 'next_token_vector' in features: result.extend(row.next_token_vector)\n",
    "    if 'prev_token_vector' in features: result.extend(row.prev_token_vector)\n",
    "    if 'Dependency_Head' in features: result.append(row.Dependency_Head)\n",
    "\n",
    "    # Add multiple-vector features\n",
    "    if 'trigram_list_vectors' in features: result.extend(sum_vectors(row.trigram_list_vectors))\n",
    "    if 'prev_bigram_list_vectors' in features: result.extend(sum_vectors(row.prev_bigram_list_vectors))\n",
    "    if 'next_bigram_list_vectors' in features: result.extend(sum_vectors(row.next_bigram_list_vectors))\n",
    "\n",
    "    return result\n",
    "\n",
    "def get_categorical_features(features, data):\n",
    "    return pd.get_dummies(data[features]).values\n",
    "\n",
    "def get_features(features, data):\n",
    "    X = []\n",
    "    vec_features = []\n",
    "    cat_features = []\n",
    "    all_vec_features = ['Token_vector', 'next_token_vector', 'prev_token_vector', 'trigram_list_vectors', 'prev_bigram_list_vectors', 'next_bigram_list_vectors', 'HECT', 'HECA']\n",
    "    all_cat_features = ['POS', 'POS_TAG', 'Dependency_Label']\n",
    "    \n",
    "    # Classify features\n",
    "    for feature in features:\n",
    "        if feature in all_vec_features: vec_features.append(feature)\n",
    "        if feature in all_cat_features: cat_features.append(feature)\n",
    "    \n",
    "    # If both vector and categorical features exist\n",
    "    if vec_features and cat_features:\n",
    "        cat_values = get_categorical_features(cat_features, data)\n",
    "        for i in range(len(data)):\n",
    "            X.append(np.append(cat_values[i], get_vector_features(data.iloc[i], vec_features)))\n",
    "    \n",
    "    # Only vector features\n",
    "    elif vec_features:\n",
    "        X = data.apply(get_vector_features, args=(vec_features,), axis=1).tolist()\n",
    "    \n",
    "    # Only categorical features\n",
    "    elif cat_features:\n",
    "        X = get_categorical_features(cat_features, data)\n",
    "\n",
    "    return X"
   ]
  },
  {
   "cell_type": "code",
   "execution_count": 4,
   "id": "a9de9e3d",
   "metadata": {},
   "outputs": [],
   "source": [
    "def feature_ablation(all_features):\n",
    "    \n",
    "    best_scores = []\n",
    "    order_of_removal = []\n",
    "    features_to_use = all_features.copy()\n",
    "    \n",
    "    while len(features_to_use) > 1:\n",
    "        \n",
    "        scores = []\n",
    "        print('\\n', features_to_use)\n",
    "\n",
    "        for feature in features_to_use:\n",
    "            \n",
    "            # Get new feature list\n",
    "            temp_features = deepcopy(features_to_use)\n",
    "            temp_features.remove(feature)\n",
    "            \n",
    "            # Generate new data\n",
    "            sample = random.sample(range(len(train_data)), int(len(train_data)*0.5))\n",
    "            X = get_features(temp_features, deepcopy(train_data.iloc[sample]))\n",
    "            y = train_data.loc[sample, 'Negation_cue'].values\n",
    "            \n",
    "            split = int(len(y)*0.75)\n",
    "            \n",
    "            train_x = X[:split]\n",
    "            train_y = y[:split]\n",
    "            dev_x = X[split:]\n",
    "            dev_y = y[split:]\n",
    "                        \n",
    "            # Build new classifier\n",
    "            svm = pipeline.make_pipeline(StandardScaler(), SVC(gamma='auto'))\n",
    "            svm.fit(train_x, train_y)\n",
    "\n",
    "            # Measure performance\n",
    "            prediction = svm.predict(dev_x)\n",
    "            score = f1_score(dev_y, prediction, average='weighted')\n",
    "            scores.append(score)\n",
    "            print(score)\n",
    "\n",
    "        # Remove worst feature\n",
    "        index_worst_feature = np.argmax(scores)\n",
    "        feature_to_delete = features_to_use[index_worst_feature]\n",
    "        features_to_use.remove(feature_to_delete)\n",
    "        \n",
    "        # Save progress\n",
    "        best_scores.append(np.max(scores))\n",
    "        order_of_removal.append(feature_to_delete)\n",
    "    \n",
    "    return order_of_removal, best_scores"
   ]
  },
  {
   "cell_type": "code",
   "execution_count": 5,
   "id": "65fc7c1c",
   "metadata": {
    "scrolled": true
   },
   "outputs": [
    {
     "name": "stdout",
     "output_type": "stream",
     "text": [
      "\n",
      " ['Token_vector', 'POS', 'POS_TAG', 'Dependency_Head', 'Dependency_Label', 'next_token_vector', 'prev_token_vector', 'trigram_list_vectors', 'prev_bigram_list_vectors', 'next_bigram_list_vectors', 'HECT', 'HECA']\n",
      "0.9953167576124043\n",
      "0.9960648935969968\n",
      "0.9959021929534879\n",
      "0.997113466275445\n",
      "0.9962875720658244\n",
      "0.9966166167856149\n",
      "0.9967146201227052\n",
      "0.9960378807015857\n",
      "0.9975600054345006\n",
      "0.9956507130944252\n",
      "0.996155598938164\n",
      "0.9956999253422553\n",
      "\n",
      " ['Token_vector', 'POS', 'POS_TAG', 'Dependency_Head', 'Dependency_Label', 'next_token_vector', 'prev_token_vector', 'trigram_list_vectors', 'next_bigram_list_vectors', 'HECT', 'HECA']\n",
      "0.9959865189054636\n",
      "0.9959214602188106\n",
      "0.9964489476833791\n",
      "0.9967170411303337\n",
      "0.9958096526918655\n",
      "0.9975466073580551\n",
      "0.9961457704242928\n",
      "0.9969467445002412\n",
      "0.9957626244318862\n",
      "0.9957860963129658\n",
      "0.9951806156367817\n",
      "\n",
      " ['Token_vector', 'POS', 'POS_TAG', 'Dependency_Head', 'Dependency_Label', 'prev_token_vector', 'trigram_list_vectors', 'next_bigram_list_vectors', 'HECT', 'HECA']\n",
      "0.9965680041261468\n",
      "0.9966377680253382\n",
      "0.9966259109053569\n",
      "0.995861814896774\n",
      "0.9961208468328753\n",
      "0.9968033436552151\n",
      "0.9967757737670327\n",
      "0.9960468566158677\n",
      "0.9964924784028079\n",
      "0.9961197901365814\n",
      "\n",
      " ['Token_vector', 'POS', 'POS_TAG', 'Dependency_Head', 'Dependency_Label', 'trigram_list_vectors', 'next_bigram_list_vectors', 'HECT', 'HECA']\n",
      "0.9962513072728851\n",
      "0.9966418768924793\n",
      "0.9961077722145266\n",
      "0.9958631915936373\n",
      "0.9967563002090153\n",
      "0.996188690857177\n",
      "0.996445578368226\n",
      "0.9956697537684994\n",
      "0.9960045042171105\n",
      "\n",
      " ['Token_vector', 'POS', 'POS_TAG', 'Dependency_Head', 'trigram_list_vectors', 'next_bigram_list_vectors', 'HECT', 'HECA']\n",
      "0.9959274553941755\n",
      "0.9957635870812865\n",
      "0.9959476086276358\n",
      "0.9955879889461844\n",
      "0.9958773165566216\n",
      "0.9975027057621996\n",
      "0.9963796322965732\n",
      "0.9961953600690676\n",
      "\n",
      " ['Token_vector', 'POS', 'POS_TAG', 'Dependency_Head', 'trigram_list_vectors', 'HECT', 'HECA']\n",
      "0.995225803389905\n",
      "0.995875398698189\n",
      "0.9961910199557031\n",
      "0.996955722234256\n",
      "0.9976134754346078\n",
      "0.9967424343151526\n",
      "0.9966712333947964\n",
      "\n",
      " ['Token_vector', 'POS', 'POS_TAG', 'Dependency_Head', 'HECT', 'HECA']\n",
      "0.9969296501550878\n",
      "0.9958305826937763\n",
      "0.9971786683070796\n",
      "0.9972865108041418\n",
      "0.9974977819499233\n",
      "0.996680778537999\n",
      "\n",
      " ['Token_vector', 'POS', 'POS_TAG', 'Dependency_Head', 'HECA']\n",
      "0.9896622867460114\n",
      "0.9965351685587923\n",
      "0.9975007298806935\n",
      "0.9965687068130724\n",
      "0.9968912753577114\n",
      "\n",
      " ['Token_vector', 'POS', 'Dependency_Head', 'HECA']\n",
      "0.9816012181762102\n",
      "0.9967728657939873\n",
      "0.996798070788283\n",
      "0.9967085857066382\n",
      "\n",
      " ['Token_vector', 'POS', 'HECA']\n",
      "0.9854532960520554\n",
      "0.9964407107519919\n",
      "0.9965559162116255\n",
      "\n",
      " ['Token_vector', 'POS']\n",
      "0.972750308152596\n",
      "0.997093893545103\n"
     ]
    }
   ],
   "source": [
    "all_features = ['Token_vector', 'POS', 'POS_TAG', 'Dependency_Head', 'Dependency_Label', 'next_token_vector',\n",
    "                'prev_token_vector', 'trigram_list_vectors', 'prev_bigram_list_vectors', 'next_bigram_list_vectors',\n",
    "                'HECT', 'HECA']\n",
    "\n",
    "order_of_removal, best_scores = feature_ablation(all_features)"
   ]
  },
  {
   "cell_type": "code",
   "execution_count": 6,
   "id": "6e46dd68",
   "metadata": {},
   "outputs": [],
   "source": [
    "order_of_removal.reverse()\n",
    "order_of_removal.append('Use all features')\n",
    "\n",
    "best_scores.reverse()\n",
    "best_scores.append(best_scores[-1])"
   ]
  },
  {
   "cell_type": "code",
   "execution_count": 5,
   "id": "3b09b245",
   "metadata": {},
   "outputs": [
    {
     "ename": "NameError",
     "evalue": "name 'order_of_removal' is not defined",
     "output_type": "error",
     "traceback": [
      "\u001b[1;31m---------------------------------------------------------------------------\u001b[0m",
      "\u001b[1;31mNameError\u001b[0m                                 Traceback (most recent call last)",
      "\u001b[1;32m<ipython-input-5-f37878230c93>\u001b[0m in \u001b[0;36m<module>\u001b[1;34m\u001b[0m\n\u001b[1;32m----> 1\u001b[1;33m \u001b[0mpd\u001b[0m\u001b[1;33m.\u001b[0m\u001b[0mDataFrame\u001b[0m\u001b[1;33m(\u001b[0m\u001b[0morder_of_removal\u001b[0m\u001b[1;33m)\u001b[0m\u001b[1;33m.\u001b[0m\u001b[0mto_csv\u001b[0m\u001b[1;33m(\u001b[0m\u001b[1;34m'order_of_removal_SVM.csv'\u001b[0m\u001b[1;33m,\u001b[0m \u001b[0mindex\u001b[0m\u001b[1;33m=\u001b[0m\u001b[1;32mFalse\u001b[0m\u001b[1;33m)\u001b[0m\u001b[1;33m\u001b[0m\u001b[1;33m\u001b[0m\u001b[0m\n\u001b[0m\u001b[0;32m      2\u001b[0m \u001b[0mpd\u001b[0m\u001b[1;33m.\u001b[0m\u001b[0mDataFrame\u001b[0m\u001b[1;33m(\u001b[0m\u001b[0mbest_scores\u001b[0m\u001b[1;33m)\u001b[0m\u001b[1;33m.\u001b[0m\u001b[0mto_csv\u001b[0m\u001b[1;33m(\u001b[0m\u001b[1;34m'best_scores_SVM.csv'\u001b[0m\u001b[1;33m,\u001b[0m \u001b[0mindex\u001b[0m\u001b[1;33m=\u001b[0m\u001b[1;32mFalse\u001b[0m\u001b[1;33m)\u001b[0m\u001b[1;33m\u001b[0m\u001b[1;33m\u001b[0m\u001b[0m\n",
      "\u001b[1;31mNameError\u001b[0m: name 'order_of_removal' is not defined"
     ]
    }
   ],
   "source": [
    "pd.DataFrame(order_of_removal).to_csv('order_of_removal_SVM.csv', index=False)\n",
    "pd.DataFrame(best_scores).to_csv('best_scores_SVM.csv', index=False)"
   ]
  },
  {
   "cell_type": "code",
   "execution_count": 106,
   "id": "ec570536",
   "metadata": {},
   "outputs": [],
   "source": [
    "order_of_addition = ['Previous bigram vectors', 'Next token vector', 'Previous token vector',\n",
    "                   'Dependency label', 'Next bigram vector', 'Trigram vector', 'HECT', 'POS-tag', 'Dependency head',\n",
    "                   'HECA', 'POS','Token']\n",
    "scores = [0.9975600054345006, 0.9975600054345006, 0.9975466073580551, 0.9968033436552151, 0.9967563002090153,\n",
    "               0.9975027057621996, 0.9976134754346078, 0.9974977819499233, 0.9975007298806935, 0.996798070788283,\n",
    "               0.9965559162116255, 0.997093893545103]\n",
    "\n",
    "# order_of_removal.reverse()\n",
    "# best_scores.reverse()"
   ]
  },
  {
   "cell_type": "code",
   "execution_count": 126,
   "id": "5227f1c9",
   "metadata": {},
   "outputs": [
    {
     "data": {
      "image/png": "[encoded data removed]",
      "text/plain": [
       "<Figure size 864x432 with 1 Axes>"
      ]
     },
     "metadata": {
      "needs_background": "light"
     },
     "output_type": "display_data"
    }
   ],
   "source": [
    "df_bar = pd.DataFrame({'F1-score': scores}, columns=['F1-score'], index=order_of_addition)\n",
    "\n",
    "ax = df_bar.plot.barh(figsize=(12,6),\n",
    "                      legend=False,\n",
    "                      xlim=(np.min(scores)-0.0001, np.max(scores)+0.0001))\n",
    "\n",
    "ax.text(scores[-2]+0.00001, 10-0.06, order_of_addition[-2:], color='black')\n",
    "for i in [1,3,4,5,6,7]:\n",
    "    ax.text(0.99648, 12-i-0.06, order_of_addition[-i:], color='white')\n",
    "\n",
    "plt.title('The effect of adding the next most important feature', size=16)\n",
    "plt.xlabel('F1-score', size=14)\n",
    "plt.ylabel('Last added feature', size=14)\n",
    "plt.savefig('FAS_SVM.pdf', bbox_inches='tight')\n",
    "plt.show()"
   ]
  },
  {
   "cell_type": "code",
   "execution_count": null,
   "id": "e421aa2f",
   "metadata": {},
   "outputs": [],
   "source": []
  },
  {
   "cell_type": "code",
   "execution_count": 9,
   "id": "a7c0dfb1",
   "metadata": {},
   "outputs": [],
   "source": [
    "features_to_use = ['HECT', 'HECA', 'POS', 'Dependency_head', 'POS_TAG']\n",
    "X = get_features(features_to_use, deepcopy(train_data))\n",
    "y = train_data.Negation_cue.values\n",
    "\n",
    "split = int(len(X)*0.75)\n",
    "\n",
    "train_x = X[:split]\n",
    "dev_x = X[split:]\n",
    "train_y = y[:split]\n",
    "dev_y = y[split:]"
   ]
  },
  {
   "cell_type": "markdown",
   "id": "c445489a",
   "metadata": {},
   "source": [
    "# HyperOpt"
   ]
  },
  {
   "cell_type": "code",
   "execution_count": 13,
   "id": "980d873e",
   "metadata": {},
   "outputs": [
    {
     "name": "stdout",
     "output_type": "stream",
     "text": [
      "100%|█████████████████████████████████████████████| 300/300 [17:57<00:00,  3.59s/trial, best loss: -0.9970734592704813]\n"
     ]
    },
    {
     "data": {
      "text/plain": [
       "{'C': 2.6405611285523425, 'gamma': 0, 'kernel': 2}"
      ]
     },
     "execution_count": 13,
     "metadata": {},
     "output_type": "execute_result"
    }
   ],
   "source": [
    "space = {'C': hp.uniform('C', 0.01, 5), # Gives the upper an lower limit\n",
    "         'kernel': hp.choice('kernel', ['linear', 'poly', 'rbf']), # HyperOpt has to choose one\n",
    "         'gamma': hp.choice('gamma', ['scale', 'auto'])} # HyperOpt has to choose one\n",
    "\n",
    "def optimizer(space):\n",
    "    \n",
    "    svm = SVC(C=space['C'],\n",
    "              kernel=space['kernel'],\n",
    "              gamma=space['gamma'])\n",
    "    svm = pipeline.make_pipeline(StandardScaler(), svm)\n",
    "    \n",
    "    svm.fit(train_x, train_y)\n",
    "    \n",
    "    prediction = svm.predict(dev_x)\n",
    "    F1_score = f1_score(dev_y, prediction, average='weighted')\n",
    "    \n",
    "    return {'loss': -F1_score, 'status': STATUS_OK}\n",
    "\n",
    "SVM_trails = Trials()\n",
    "\n",
    "SVM_best = fmin(fn=optimizer,\n",
    "                space=space,\n",
    "                algo=tpe.suggest,\n",
    "                max_evals=300, # Set to a 100 or so for the final run when u know everything is working\n",
    "                trials=SVM_trails)\n",
    "SVM_best"
   ]
  },
  {
   "cell_type": "code",
   "execution_count": 25,
   "id": "dfd0e008",
   "metadata": {},
   "outputs": [
    {
     "data": {
      "text/plain": [
       "{'C': 2.6405611285523425, 'gamma': 'scale', 'kernel': 'rbf'}"
      ]
     },
     "execution_count": 25,
     "metadata": {},
     "output_type": "execute_result"
    }
   ],
   "source": [
    "SVM_best = hyperopt.space_eval(space, SVM_best)\n",
    "SVM_best"
   ]
  },
  {
   "cell_type": "markdown",
   "id": "acbf1d4c",
   "metadata": {},
   "source": [
    "# Results on Dev and Test data"
   ]
  },
  {
   "cell_type": "code",
   "execution_count": 25,
   "id": "017425a7",
   "metadata": {},
   "outputs": [],
   "source": [
    "os.chdir(r'C:\\Users\\StanvanLoon\\OneDrive - Umbrio B.V\\Documents\\Master Business Analytics\\Applied Text Mining\\3. Corpus preprocessing and feature extraction')\n",
    "\n",
    "train_data = pd.read_pickle(r\"C:\\Users\\StanvanLoon\\OneDrive - Umbrio B.V\\Documents\\GitHub\\VU_ATM\\assignment3\\Data\\tmtrain.Preprocessed.pickle\")\n",
    "dev_data = pd.read_pickle(r\"C:\\Users\\StanvanLoon\\OneDrive - Umbrio B.V\\Documents\\GitHub\\VU_ATM\\assignment3\\Data\\tmdev.Preprocessed.pickle\")\n",
    "cardboard_data = pd.read_pickle('Data/SEM-2012-SharedTask-CD-SCO-test-cardboard.Preprocessed.pickle')\n",
    "circle_data = pd.read_pickle('Data/SEM-2012-SharedTask-CD-SCO-test-circle.Preprocessed.pickle')\n",
    "test_data = pd.concat([cardboard_data, circle_data]).reset_index(drop=True) \n",
    "all_data = pd.concat([train_data, dev_data, test_data]).reset_index(drop=True)"
   ]
  },
  {
   "cell_type": "code",
   "execution_count": 26,
   "id": "c1aa4afd",
   "metadata": {},
   "outputs": [],
   "source": [
    "features_to_use = ['HECT', 'HECA', 'POS', 'Dependency_head', 'POS_TAG']\n",
    "\n",
    "X = get_features(features_to_use, deepcopy(all_data))\n",
    "y = all_data.Negation_cue.values"
   ]
  },
  {
   "cell_type": "code",
   "execution_count": 27,
   "id": "76628c7e",
   "metadata": {},
   "outputs": [
    {
     "name": "stdout",
     "output_type": "stream",
     "text": [
      "65451 65451 65451\n",
      "13567 13567 13567\n",
      "19216 19216 19216\n"
     ]
    }
   ],
   "source": [
    "train_x = X[:len(train_data)]\n",
    "train_y = y[:len(train_data)]\n",
    "\n",
    "dev_x = X[len(train_data):-len(test_data)]\n",
    "dev_y = y[len(train_data):-len(test_data)]\n",
    "\n",
    "test_x = X[-len(test_data):]\n",
    "test_y = y[-len(test_data):]\n",
    "\n",
    "print(len(train_data), len(train_x), len(train_y))\n",
    "print(len(dev_data), len(dev_x), len(dev_y))\n",
    "print(len(cardboard_data) + len(circle_data), len(test_x), len(test_y))"
   ]
  },
  {
   "cell_type": "code",
   "execution_count": 28,
   "id": "d17ec492",
   "metadata": {},
   "outputs": [
    {
     "data": {
      "text/plain": [
       "Pipeline(steps=[('standardscaler', StandardScaler()),\n",
       "                ('svc', SVC(C=2.6405611285523425))])"
      ]
     },
     "execution_count": 28,
     "metadata": {},
     "output_type": "execute_result"
    }
   ],
   "source": [
    "svm = SVC(C=2.6405611285523425, # SVM_best['C'],\n",
    "          kernel='rbf', # SVM_best['kernel'],\n",
    "          gamma='scale') # SVM_best['gamma'])\n",
    "svm = pipeline.make_pipeline(StandardScaler(), svm)\n",
    "\n",
    "svm.fit(train_x, train_y)"
   ]
  },
  {
   "cell_type": "markdown",
   "id": "1b6cabdf",
   "metadata": {},
   "source": [
    "## Development data"
   ]
  },
  {
   "cell_type": "code",
   "execution_count": 29,
   "id": "06a3747e",
   "metadata": {},
   "outputs": [
    {
     "data": {
      "text/plain": [
       "0.9967513195836512"
      ]
     },
     "execution_count": 29,
     "metadata": {},
     "output_type": "execute_result"
    }
   ],
   "source": [
    "pred_dev = svm.predict(dev_x)\n",
    "f1_score(dev_y, pred_dev, average='weighted')"
   ]
  },
  {
   "cell_type": "code",
   "execution_count": 30,
   "id": "a40c5608",
   "metadata": {},
   "outputs": [
    {
     "data": {
      "image/png": "[encoded data removed]",
      "text/plain": [
       "<Figure size 432x288 with 2 Axes>"
      ]
     },
     "metadata": {
      "needs_background": "light"
     },
     "output_type": "display_data"
    }
   ],
   "source": [
    "confusion_matrix = pd.crosstab(pd.DataFrame(dev_y)[0], pd.DataFrame(pred_dev)[0], rownames=['Actual'], colnames=['Predicted'])\n",
    "sns.heatmap(confusion_matrix, annot=True)\n",
    "plt.suptitle('Confusion matrix for SVM')\n",
    "plt.savefig('CM_SVM_dev.pdf')\n",
    "plt.show()"
   ]
  },
  {
   "cell_type": "markdown",
   "id": "a9763468",
   "metadata": {},
   "source": [
    "# Test data"
   ]
  },
  {
   "cell_type": "code",
   "execution_count": 31,
   "id": "0527409a",
   "metadata": {},
   "outputs": [
    {
     "data": {
      "text/plain": [
       "0.9962399179701481"
      ]
     },
     "execution_count": 31,
     "metadata": {},
     "output_type": "execute_result"
    }
   ],
   "source": [
    "pred_test = svm.predict(test_x)\n",
    "f1_score(test_y, pred_test, average='weighted')"
   ]
  },
  {
   "cell_type": "code",
   "execution_count": 32,
   "id": "614f09be",
   "metadata": {},
   "outputs": [
    {
     "data": {
      "image/png": "[encoded data removed]",
      "text/plain": [
       "<Figure size 432x288 with 2 Axes>"
      ]
     },
     "metadata": {
      "needs_background": "light"
     },
     "output_type": "display_data"
    }
   ],
   "source": [
    "confusion_matrix = pd.crosstab(pd.DataFrame(test_y)[0], pd.DataFrame(pred_test)[0], rownames=['Actual'], colnames=['Predicted'])\n",
    "sns.heatmap(confusion_matrix, annot=True)\n",
    "plt.suptitle('Confusion matrix SCM on test data')\n",
    "plt.savefig('CM_SVM_test.pdf')\n",
    "plt.show()"
   ]
  },
  {
   "cell_type": "markdown",
   "id": "d60a9800",
   "metadata": {},
   "source": [
    "# Save results"
   ]
  },
  {
   "cell_type": "code",
   "execution_count": 33,
   "id": "4aef0931",
   "metadata": {},
   "outputs": [],
   "source": [
    "def get_baseline_prediction(row):\n",
    "    if row.HECT == 1 or row.HECA == 1:\n",
    "        return 'B-NEG'\n",
    "    return 'O'"
   ]
  },
  {
   "cell_type": "code",
   "execution_count": 42,
   "id": "04149721",
   "metadata": {},
   "outputs": [
    {
     "ename": "KeyError",
     "evalue": "\"['pred_CRF'] not in index\"",
     "output_type": "error",
     "traceback": [
      "\u001b[1;31m---------------------------------------------------------------------------\u001b[0m",
      "\u001b[1;31mKeyError\u001b[0m                                  Traceback (most recent call last)",
      "\u001b[1;32m<ipython-input-42-8ab03cd76726>\u001b[0m in \u001b[0;36m<module>\u001b[1;34m\u001b[0m\n\u001b[0;32m      6\u001b[0m \u001b[1;33m\u001b[0m\u001b[0m\n\u001b[0;32m      7\u001b[0m \u001b[0mcolumns_to_save\u001b[0m \u001b[1;33m=\u001b[0m \u001b[1;33m[\u001b[0m\u001b[1;34m'Token_ID'\u001b[0m\u001b[1;33m,\u001b[0m \u001b[1;34m'Token'\u001b[0m\u001b[1;33m,\u001b[0m \u001b[1;34m'trigram'\u001b[0m\u001b[1;33m,\u001b[0m \u001b[1;34m'idx_sent'\u001b[0m\u001b[1;33m,\u001b[0m \u001b[1;34m'HECT'\u001b[0m\u001b[1;33m,\u001b[0m \u001b[1;34m'HECA'\u001b[0m\u001b[1;33m,\u001b[0m \u001b[1;34m'pred_base'\u001b[0m\u001b[1;33m,\u001b[0m \u001b[1;34m'pred_CRF'\u001b[0m\u001b[1;33m,\u001b[0m \u001b[1;34m'Negation_cue'\u001b[0m\u001b[1;33m]\u001b[0m\u001b[1;33m\u001b[0m\u001b[1;33m\u001b[0m\u001b[0m\n\u001b[1;32m----> 8\u001b[1;33m \u001b[0mdev_data\u001b[0m \u001b[1;33m=\u001b[0m \u001b[0mdev_data\u001b[0m\u001b[1;33m[\u001b[0m\u001b[0mcolumns_to_save\u001b[0m\u001b[1;33m]\u001b[0m\u001b[1;33m\u001b[0m\u001b[1;33m\u001b[0m\u001b[0m\n\u001b[0m\u001b[0;32m      9\u001b[0m \u001b[0mtest_data\u001b[0m \u001b[1;33m=\u001b[0m \u001b[0mtest_data\u001b[0m\u001b[1;33m[\u001b[0m\u001b[0mcolumns_to_save\u001b[0m\u001b[1;33m]\u001b[0m\u001b[1;33m\u001b[0m\u001b[1;33m\u001b[0m\u001b[0m\n",
      "\u001b[1;32m~\\anaconda3\\lib\\site-packages\\pandas\\core\\frame.py\u001b[0m in \u001b[0;36m__getitem__\u001b[1;34m(self, key)\u001b[0m\n\u001b[0;32m   3510\u001b[0m             \u001b[1;32mif\u001b[0m \u001b[0mis_iterator\u001b[0m\u001b[1;33m(\u001b[0m\u001b[0mkey\u001b[0m\u001b[1;33m)\u001b[0m\u001b[1;33m:\u001b[0m\u001b[1;33m\u001b[0m\u001b[1;33m\u001b[0m\u001b[0m\n\u001b[0;32m   3511\u001b[0m                 \u001b[0mkey\u001b[0m \u001b[1;33m=\u001b[0m \u001b[0mlist\u001b[0m\u001b[1;33m(\u001b[0m\u001b[0mkey\u001b[0m\u001b[1;33m)\u001b[0m\u001b[1;33m\u001b[0m\u001b[1;33m\u001b[0m\u001b[0m\n\u001b[1;32m-> 3512\u001b[1;33m             \u001b[0mindexer\u001b[0m \u001b[1;33m=\u001b[0m \u001b[0mself\u001b[0m\u001b[1;33m.\u001b[0m\u001b[0mcolumns\u001b[0m\u001b[1;33m.\u001b[0m\u001b[0m_get_indexer_strict\u001b[0m\u001b[1;33m(\u001b[0m\u001b[0mkey\u001b[0m\u001b[1;33m,\u001b[0m \u001b[1;34m\"columns\"\u001b[0m\u001b[1;33m)\u001b[0m\u001b[1;33m[\u001b[0m\u001b[1;36m1\u001b[0m\u001b[1;33m]\u001b[0m\u001b[1;33m\u001b[0m\u001b[1;33m\u001b[0m\u001b[0m\n\u001b[0m\u001b[0;32m   3513\u001b[0m \u001b[1;33m\u001b[0m\u001b[0m\n\u001b[0;32m   3514\u001b[0m         \u001b[1;31m# take() does not accept boolean indexers\u001b[0m\u001b[1;33m\u001b[0m\u001b[1;33m\u001b[0m\u001b[1;33m\u001b[0m\u001b[0m\n",
      "\u001b[1;32m~\\anaconda3\\lib\\site-packages\\pandas\\core\\indexes\\base.py\u001b[0m in \u001b[0;36m_get_indexer_strict\u001b[1;34m(self, key, axis_name)\u001b[0m\n\u001b[0;32m   5780\u001b[0m             \u001b[0mkeyarr\u001b[0m\u001b[1;33m,\u001b[0m \u001b[0mindexer\u001b[0m\u001b[1;33m,\u001b[0m \u001b[0mnew_indexer\u001b[0m \u001b[1;33m=\u001b[0m \u001b[0mself\u001b[0m\u001b[1;33m.\u001b[0m\u001b[0m_reindex_non_unique\u001b[0m\u001b[1;33m(\u001b[0m\u001b[0mkeyarr\u001b[0m\u001b[1;33m)\u001b[0m\u001b[1;33m\u001b[0m\u001b[1;33m\u001b[0m\u001b[0m\n\u001b[0;32m   5781\u001b[0m \u001b[1;33m\u001b[0m\u001b[0m\n\u001b[1;32m-> 5782\u001b[1;33m         \u001b[0mself\u001b[0m\u001b[1;33m.\u001b[0m\u001b[0m_raise_if_missing\u001b[0m\u001b[1;33m(\u001b[0m\u001b[0mkeyarr\u001b[0m\u001b[1;33m,\u001b[0m \u001b[0mindexer\u001b[0m\u001b[1;33m,\u001b[0m \u001b[0maxis_name\u001b[0m\u001b[1;33m)\u001b[0m\u001b[1;33m\u001b[0m\u001b[1;33m\u001b[0m\u001b[0m\n\u001b[0m\u001b[0;32m   5783\u001b[0m \u001b[1;33m\u001b[0m\u001b[0m\n\u001b[0;32m   5784\u001b[0m         \u001b[0mkeyarr\u001b[0m \u001b[1;33m=\u001b[0m \u001b[0mself\u001b[0m\u001b[1;33m.\u001b[0m\u001b[0mtake\u001b[0m\u001b[1;33m(\u001b[0m\u001b[0mindexer\u001b[0m\u001b[1;33m)\u001b[0m\u001b[1;33m\u001b[0m\u001b[1;33m\u001b[0m\u001b[0m\n",
      "\u001b[1;32m~\\anaconda3\\lib\\site-packages\\pandas\\core\\indexes\\base.py\u001b[0m in \u001b[0;36m_raise_if_missing\u001b[1;34m(self, key, indexer, axis_name)\u001b[0m\n\u001b[0;32m   5843\u001b[0m \u001b[1;33m\u001b[0m\u001b[0m\n\u001b[0;32m   5844\u001b[0m             \u001b[0mnot_found\u001b[0m \u001b[1;33m=\u001b[0m \u001b[0mlist\u001b[0m\u001b[1;33m(\u001b[0m\u001b[0mensure_index\u001b[0m\u001b[1;33m(\u001b[0m\u001b[0mkey\u001b[0m\u001b[1;33m)\u001b[0m\u001b[1;33m[\u001b[0m\u001b[0mmissing_mask\u001b[0m\u001b[1;33m.\u001b[0m\u001b[0mnonzero\u001b[0m\u001b[1;33m(\u001b[0m\u001b[1;33m)\u001b[0m\u001b[1;33m[\u001b[0m\u001b[1;36m0\u001b[0m\u001b[1;33m]\u001b[0m\u001b[1;33m]\u001b[0m\u001b[1;33m.\u001b[0m\u001b[0munique\u001b[0m\u001b[1;33m(\u001b[0m\u001b[1;33m)\u001b[0m\u001b[1;33m)\u001b[0m\u001b[1;33m\u001b[0m\u001b[1;33m\u001b[0m\u001b[0m\n\u001b[1;32m-> 5845\u001b[1;33m             \u001b[1;32mraise\u001b[0m \u001b[0mKeyError\u001b[0m\u001b[1;33m(\u001b[0m\u001b[1;34mf\"{not_found} not in index\"\u001b[0m\u001b[1;33m)\u001b[0m\u001b[1;33m\u001b[0m\u001b[1;33m\u001b[0m\u001b[0m\n\u001b[0m\u001b[0;32m   5846\u001b[0m \u001b[1;33m\u001b[0m\u001b[0m\n\u001b[0;32m   5847\u001b[0m     \u001b[1;33m@\u001b[0m\u001b[0moverload\u001b[0m\u001b[1;33m\u001b[0m\u001b[1;33m\u001b[0m\u001b[0m\n",
      "\u001b[1;31mKeyError\u001b[0m: \"['pred_CRF'] not in index\""
     ]
    }
   ],
   "source": [
    "dev_data['pred_base'] = dev_data.apply(get_baseline_prediction, axis=1)\n",
    "dev_data['pred_SVM'] = pred_dev\n",
    "\n",
    "test_data['pred_base'] = test_data.apply(get_baseline_prediction, axis=1)\n",
    "test_data['pred_SVM'] = pred_test\n",
    "\n",
    "columns_to_save = ['Token_ID', 'Token', 'trigram', 'idx_sent', 'HECT', 'HECA', 'pred_base', 'pred_CRF', 'Negation_cue']\n",
    "dev_data = dev_data[columns_to_save]\n",
    "test_data = test_data[columns_to_save]"
   ]
  },
  {
   "cell_type": "code",
   "execution_count": 35,
   "id": "231f28f6",
   "metadata": {},
   "outputs": [
    {
     "data": {
      "text/html": [
       "<div>\n",
       "<style scoped>\n",
       "    .dataframe tbody tr th:only-of-type {\n",
       "        vertical-align: middle;\n",
       "    }\n",
       "\n",
       "    .dataframe tbody tr th {\n",
       "        vertical-align: top;\n",
       "    }\n",
       "\n",
       "    .dataframe thead th {\n",
       "        text-align: right;\n",
       "    }\n",
       "</style>\n",
       "<table border=\"1\" class=\"dataframe\">\n",
       "  <thead>\n",
       "    <tr style=\"text-align: right;\">\n",
       "      <th></th>\n",
       "      <th>Token_ID</th>\n",
       "      <th>Token</th>\n",
       "      <th>trigram</th>\n",
       "      <th>idx_sent</th>\n",
       "      <th>HECT</th>\n",
       "      <th>HECA</th>\n",
       "      <th>pred_base</th>\n",
       "      <th>pred_CRF</th>\n",
       "      <th>Negation_cue</th>\n",
       "    </tr>\n",
       "  </thead>\n",
       "  <tbody>\n",
       "    <tr>\n",
       "      <th>0</th>\n",
       "      <td>0</td>\n",
       "      <td>1</td>\n",
       "      <td>1 The Singular</td>\n",
       "      <td>0</td>\n",
       "      <td>0</td>\n",
       "      <td>0</td>\n",
       "      <td>O</td>\n",
       "      <td>O</td>\n",
       "      <td>O</td>\n",
       "    </tr>\n",
       "    <tr>\n",
       "      <th>1</th>\n",
       "      <td>1</td>\n",
       "      <td>The</td>\n",
       "      <td>1 The Singular</td>\n",
       "      <td>0</td>\n",
       "      <td>0</td>\n",
       "      <td>0</td>\n",
       "      <td>O</td>\n",
       "      <td>O</td>\n",
       "      <td>O</td>\n",
       "    </tr>\n",
       "    <tr>\n",
       "      <th>2</th>\n",
       "      <td>2</td>\n",
       "      <td>Singular</td>\n",
       "      <td>The Singular Experience</td>\n",
       "      <td>0</td>\n",
       "      <td>0</td>\n",
       "      <td>0</td>\n",
       "      <td>O</td>\n",
       "      <td>O</td>\n",
       "      <td>O</td>\n",
       "    </tr>\n",
       "    <tr>\n",
       "      <th>3</th>\n",
       "      <td>3</td>\n",
       "      <td>Experience</td>\n",
       "      <td>Singular Experience of</td>\n",
       "      <td>0</td>\n",
       "      <td>0</td>\n",
       "      <td>0</td>\n",
       "      <td>O</td>\n",
       "      <td>O</td>\n",
       "      <td>O</td>\n",
       "    </tr>\n",
       "    <tr>\n",
       "      <th>4</th>\n",
       "      <td>4</td>\n",
       "      <td>of</td>\n",
       "      <td>Experience of Mr.</td>\n",
       "      <td>0</td>\n",
       "      <td>0</td>\n",
       "      <td>0</td>\n",
       "      <td>O</td>\n",
       "      <td>O</td>\n",
       "      <td>O</td>\n",
       "    </tr>\n",
       "  </tbody>\n",
       "</table>\n",
       "</div>"
      ],
      "text/plain": [
       "   Token_ID       Token                  trigram  idx_sent  HECT  HECA  \\\n",
       "0         0           1           1 The Singular         0     0     0   \n",
       "1         1         The           1 The Singular         0     0     0   \n",
       "2         2    Singular  The Singular Experience         0     0     0   \n",
       "3         3  Experience   Singular Experience of         0     0     0   \n",
       "4         4          of        Experience of Mr.         0     0     0   \n",
       "\n",
       "  pred_base pred_CRF Negation_cue  \n",
       "0         O        O            O  \n",
       "1         O        O            O  \n",
       "2         O        O            O  \n",
       "3         O        O            O  \n",
       "4         O        O            O  "
      ]
     },
     "execution_count": 35,
     "metadata": {},
     "output_type": "execute_result"
    }
   ],
   "source": [
    "dev_data.head()"
   ]
  },
  {
   "cell_type": "code",
   "execution_count": 36,
   "id": "a54d0e57",
   "metadata": {},
   "outputs": [
    {
     "data": {
      "text/html": [
       "<div>\n",
       "<style scoped>\n",
       "    .dataframe tbody tr th:only-of-type {\n",
       "        vertical-align: middle;\n",
       "    }\n",
       "\n",
       "    .dataframe tbody tr th {\n",
       "        vertical-align: top;\n",
       "    }\n",
       "\n",
       "    .dataframe thead th {\n",
       "        text-align: right;\n",
       "    }\n",
       "</style>\n",
       "<table border=\"1\" class=\"dataframe\">\n",
       "  <thead>\n",
       "    <tr style=\"text-align: right;\">\n",
       "      <th></th>\n",
       "      <th>Token_ID</th>\n",
       "      <th>Token</th>\n",
       "      <th>trigram</th>\n",
       "      <th>idx_sent</th>\n",
       "      <th>HECT</th>\n",
       "      <th>HECA</th>\n",
       "      <th>pred_base</th>\n",
       "      <th>pred_CRF</th>\n",
       "      <th>Negation_cue</th>\n",
       "    </tr>\n",
       "  </thead>\n",
       "  <tbody>\n",
       "    <tr>\n",
       "      <th>0</th>\n",
       "      <td>0</td>\n",
       "      <td>In</td>\n",
       "      <td>In choosing a</td>\n",
       "      <td>0</td>\n",
       "      <td>0</td>\n",
       "      <td>0</td>\n",
       "      <td>O</td>\n",
       "      <td>O</td>\n",
       "      <td>O</td>\n",
       "    </tr>\n",
       "    <tr>\n",
       "      <th>1</th>\n",
       "      <td>1</td>\n",
       "      <td>choosing</td>\n",
       "      <td>In choosing a</td>\n",
       "      <td>0</td>\n",
       "      <td>0</td>\n",
       "      <td>0</td>\n",
       "      <td>O</td>\n",
       "      <td>O</td>\n",
       "      <td>O</td>\n",
       "    </tr>\n",
       "    <tr>\n",
       "      <th>2</th>\n",
       "      <td>2</td>\n",
       "      <td>a</td>\n",
       "      <td>choosing a few</td>\n",
       "      <td>0</td>\n",
       "      <td>0</td>\n",
       "      <td>0</td>\n",
       "      <td>O</td>\n",
       "      <td>O</td>\n",
       "      <td>O</td>\n",
       "    </tr>\n",
       "    <tr>\n",
       "      <th>3</th>\n",
       "      <td>3</td>\n",
       "      <td>few</td>\n",
       "      <td>a few typical</td>\n",
       "      <td>0</td>\n",
       "      <td>0</td>\n",
       "      <td>0</td>\n",
       "      <td>O</td>\n",
       "      <td>O</td>\n",
       "      <td>O</td>\n",
       "    </tr>\n",
       "    <tr>\n",
       "      <th>4</th>\n",
       "      <td>4</td>\n",
       "      <td>typical</td>\n",
       "      <td>few typical cases</td>\n",
       "      <td>0</td>\n",
       "      <td>0</td>\n",
       "      <td>0</td>\n",
       "      <td>O</td>\n",
       "      <td>O</td>\n",
       "      <td>O</td>\n",
       "    </tr>\n",
       "  </tbody>\n",
       "</table>\n",
       "</div>"
      ],
      "text/plain": [
       "   Token_ID     Token            trigram  idx_sent  HECT  HECA pred_base  \\\n",
       "0         0        In      In choosing a         0     0     0         O   \n",
       "1         1  choosing      In choosing a         0     0     0         O   \n",
       "2         2         a     choosing a few         0     0     0         O   \n",
       "3         3       few      a few typical         0     0     0         O   \n",
       "4         4   typical  few typical cases         0     0     0         O   \n",
       "\n",
       "  pred_CRF Negation_cue  \n",
       "0        O            O  \n",
       "1        O            O  \n",
       "2        O            O  \n",
       "3        O            O  \n",
       "4        O            O  "
      ]
     },
     "execution_count": 36,
     "metadata": {},
     "output_type": "execute_result"
    }
   ],
   "source": [
    "test_data.head()"
   ]
  },
  {
   "cell_type": "code",
   "execution_count": 37,
   "id": "04f4b32d",
   "metadata": {},
   "outputs": [],
   "source": [
    "dev_data.to_csv('SVM_dev_result.csv', index=False)\n",
    "test_data.to_csv('SVM_test_result.csv', index=False)"
   ]
  },
  {
   "cell_type": "code",
   "execution_count": null,
   "id": "50b794c3",
   "metadata": {},
   "outputs": [],
   "source": []
  },
  {
   "cell_type": "code",
   "execution_count": null,
   "id": "390afada",
   "metadata": {},
   "outputs": [],
   "source": []
  },
  {
   "cell_type": "code",
   "execution_count": null,
   "id": "a174b9c8",
   "metadata": {},
   "outputs": [],
   "source": []
  }
 ],
 "metadata": {
  "kernelspec": {
   "display_name": "Python 3",
   "language": "python",
   "name": "python3"
  },
  "language_info": {
   "codemirror_mode": {
    "name": "ipython",
    "version": 3
   },
   "file_extension": ".py",
   "mimetype": "text/x-python",
   "name": "python",
   "nbconvert_exporter": "python",
   "pygments_lexer": "ipython3",
   "version": "3.8.8"
  }
 },
 "nbformat": 4,
 "nbformat_minor": 5
}
