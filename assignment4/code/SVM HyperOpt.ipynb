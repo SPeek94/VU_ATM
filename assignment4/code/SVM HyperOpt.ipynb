{
 "cells": [
  {
   "cell_type": "code",
   "execution_count": 1,
   "id": "736d1b90",
   "metadata": {},
   "outputs": [],
   "source": [
    "# ! pip install hyperopt\n",
    "# ! pip install hyperas\n",
    "import os\n",
    "import sys\n",
    "import time\n",
    "import random\n",
    "import warnings\n",
    "import seaborn as sns\n",
    "import numpy as np\n",
    "import pandas as pd\n",
    "from copy import deepcopy\n",
    "import matplotlib.pyplot as plt\n",
    "from sklearn.svm import SVC\n",
    "from sklearn import pipeline\n",
    "from sklearn.preprocessing import StandardScaler\n",
    "from sklearn.metrics import f1_score\n",
    "from IPython.display import display, clear_output\n",
    "\n",
    "import hyperas\n",
    "import hyperopt\n",
    "from hyperas.distributions import uniform, choice\n",
    "from hyperopt import fmin, tpe, hp, STATUS_OK, Trials\n",
    "from hyperas import optim\n",
    "\n",
    "os.chdir(os.getcwd())\n",
    "warnings.filterwarnings('ignore')"
   ]
  },
  {
   "cell_type": "markdown",
   "id": "fefd7b5b",
   "metadata": {},
   "source": [
    "# Final Pre-Processing"
   ]
  },
  {
   "cell_type": "code",
   "execution_count": 2,
   "id": "63ca3fb3",
   "metadata": {
    "scrolled": true
   },
   "outputs": [
    {
     "data": {
      "text/plain": [
       "Index(['Token_ID', 'Token', 'Lemma', 'POS', 'POS_TAG', 'Dependency_Head',\n",
       "       'Dependency_Label', 'idx_sent', 'Negation_cue', 'Token_vector',\n",
       "       'next_token', 'next_token_vector', 'prev_token', 'prev_token_vector',\n",
       "       'trigram', 'trigram_list_tokens', 'trigram_list_vectors', 'prev_bigram',\n",
       "       'prev_bigram_list_tokens', 'prev_bigram_list_vectors', 'next_bigram',\n",
       "       'next_bigram_list_tokens', 'next_bigram_list_vectors', 'HECT', 'HECA'],\n",
       "      dtype='object')"
      ]
     },
     "execution_count": 2,
     "metadata": {},
     "output_type": "execute_result"
    }
   ],
   "source": [
    "train_data = pd.read_pickle(r\"C:\\Users\\StanvanLoon\\OneDrive - Umbrio B.V\\Documents\\GitHub\\VU_ATM\\assignment3\\Data\\tmtrain.Preprocessed.pickle\")\n",
    "dev_data = pd.read_pickle(r\"C:\\Users\\StanvanLoon\\OneDrive - Umbrio B.V\\Documents\\GitHub\\VU_ATM\\assignment3\\Data\\tmdev.Preprocessed.pickle\")\n",
    "train_data = pd.concat([train_data, dev_data]).reset_index(drop=True)\n",
    "train_data.columns"
   ]
  },
  {
   "cell_type": "markdown",
   "id": "acd5870d",
   "metadata": {},
   "source": [
    "# Feature Ablation Study"
   ]
  },
  {
   "cell_type": "code",
   "execution_count": 3,
   "id": "a9c09e21",
   "metadata": {},
   "outputs": [],
   "source": [
    "def sum_vectors(vectors):\n",
    "    vectors = deepcopy(vectors)\n",
    "    result = vectors[0]\n",
    "    for i in range(1, len(vectors)): result *= vectors[i]\n",
    "    return result.tolist()\n",
    "    \n",
    "def get_vector_features(row, features):\n",
    "    result = []\n",
    "\n",
    "    # Add boolean features\n",
    "    if 'HECT' in features: result.append(row.HECT)\n",
    "    if 'HECA' in features: result.append(row.HECA)\n",
    "\n",
    "    # Add vector features\n",
    "    if 'Token_vector' in features: result.extend(list(row.Token_vector))\n",
    "    if 'next_token_vector' in features: result.extend(row.next_token_vector)\n",
    "    if 'prev_token_vector' in features: result.extend(row.prev_token_vector)\n",
    "    if 'Dependency_Head' in features: result.append(row.Dependency_Head)\n",
    "\n",
    "    # Add multiple-vector features\n",
    "    if 'trigram_list_vectors' in features: result.extend(sum_vectors(row.trigram_list_vectors))\n",
    "    if 'prev_bigram_list_vectors' in features: result.extend(sum_vectors(row.prev_bigram_list_vectors))\n",
    "    if 'next_bigram_list_vectors' in features: result.extend(sum_vectors(row.next_bigram_list_vectors))\n",
    "\n",
    "    return result\n",
    "\n",
    "def get_categorical_features(features, data):\n",
    "    return pd.get_dummies(data[features]).values\n",
    "\n",
    "def get_features(features, data):\n",
    "    X = []\n",
    "    vec_features = []\n",
    "    cat_features = []\n",
    "    all_vec_features = ['Token_vector', 'next_token_vector', 'prev_token_vector', 'trigram_list_vectors', 'prev_bigram_list_vectors', 'next_bigram_list_vectors', 'HECT', 'HECA']\n",
    "    all_cat_features = ['POS', 'POS_TAG', 'Dependency_Label']\n",
    "    \n",
    "    # Classify features\n",
    "    for feature in features:\n",
    "        if feature in all_vec_features: vec_features.append(feature)\n",
    "        if feature in all_cat_features: cat_features.append(feature)\n",
    "    \n",
    "    # If both vector and categorical features exist\n",
    "    if vec_features and cat_features:\n",
    "        cat_values = get_categorical_features(cat_features, data)\n",
    "        for i in range(len(data)):\n",
    "            X.append(np.append(cat_values[i], get_vector_features(data.iloc[i], vec_features)))\n",
    "    \n",
    "    # Only vector features\n",
    "    elif vec_features:\n",
    "        X = data.apply(get_vector_features, args=(vec_features,), axis=1).tolist()\n",
    "    \n",
    "    # Only categorical features\n",
    "    elif cat_features:\n",
    "        X = get_categorical_features(cat_features, data)\n",
    "\n",
    "    return X"
   ]
  },
  {
   "cell_type": "code",
   "execution_count": 4,
   "id": "a9de9e3d",
   "metadata": {},
   "outputs": [],
   "source": [
    "def feature_ablation(all_features):\n",
    "    \n",
    "    best_scores = []\n",
    "    order_of_removal = []\n",
    "    features_to_use = all_features.copy()\n",
    "    \n",
    "    while len(features_to_use) > 1:\n",
    "        \n",
    "        scores = []\n",
    "        print('\\n', features_to_use)\n",
    "\n",
    "        for feature in features_to_use:\n",
    "            \n",
    "            # Get new feature list\n",
    "            temp_features = deepcopy(features_to_use)\n",
    "            temp_features.remove(feature)\n",
    "            \n",
    "            # Generate new data\n",
    "            sample = random.sample(range(len(train_data)), int(len(train_data)*0.5))\n",
    "            X = get_features(temp_features, deepcopy(train_data.iloc[sample]))\n",
    "            y = train_data.loc[sample, 'Negation_cue'].values\n",
    "            \n",
    "            split = int(len(y)*0.75)\n",
    "            \n",
    "            train_x = X[:split]\n",
    "            train_y = y[:split]\n",
    "            dev_x = X[split:]\n",
    "            dev_y = y[split:]\n",
    "                        \n",
    "            # Build new classifier\n",
    "            svm = pipeline.make_pipeline(StandardScaler(), SVC(gamma='auto'))\n",
    "            svm.fit(train_x, train_y)\n",
    "\n",
    "            # Measure performance\n",
    "            prediction = svm.predict(dev_x)\n",
    "            score = f1_score(dev_y, prediction, average='weighted')\n",
    "            scores.append(score)\n",
    "            print(score)\n",
    "\n",
    "        # Remove worst feature\n",
    "        index_worst_feature = np.argmax(scores)\n",
    "        feature_to_delete = features_to_use[index_worst_feature]\n",
    "        features_to_use.remove(feature_to_delete)\n",
    "        \n",
    "        # Save progress\n",
    "        best_scores.append(np.max(scores))\n",
    "        order_of_removal.append(feature_to_delete)\n",
    "    \n",
    "    return order_of_removal, best_scores"
   ]
  },
  {
   "cell_type": "code",
   "execution_count": 5,
   "id": "65fc7c1c",
   "metadata": {
    "scrolled": true
   },
   "outputs": [
    {
     "name": "stdout",
     "output_type": "stream",
     "text": [
      "\n",
      " ['Token_vector', 'POS', 'POS_TAG', 'Dependency_Head', 'Dependency_Label', 'next_token_vector', 'prev_token_vector', 'trigram_list_vectors', 'prev_bigram_list_vectors', 'next_bigram_list_vectors', 'HECT', 'HECA']\n",
      "0.9953167576124043\n",
      "0.9960648935969968\n",
      "0.9959021929534879\n",
      "0.997113466275445\n",
      "0.9962875720658244\n",
      "0.9966166167856149\n",
      "0.9967146201227052\n",
      "0.9960378807015857\n",
      "0.9975600054345006\n",
      "0.9956507130944252\n",
      "0.996155598938164\n",
      "0.9956999253422553\n",
      "\n",
      " ['Token_vector', 'POS', 'POS_TAG', 'Dependency_Head', 'Dependency_Label', 'next_token_vector', 'prev_token_vector', 'trigram_list_vectors', 'next_bigram_list_vectors', 'HECT', 'HECA']\n",
      "0.9959865189054636\n",
      "0.9959214602188106\n",
      "0.9964489476833791\n",
      "0.9967170411303337\n",
      "0.9958096526918655\n",
      "0.9975466073580551\n",
      "0.9961457704242928\n",
      "0.9969467445002412\n",
      "0.9957626244318862\n",
      "0.9957860963129658\n",
      "0.9951806156367817\n",
      "\n",
      " ['Token_vector', 'POS', 'POS_TAG', 'Dependency_Head', 'Dependency_Label', 'prev_token_vector', 'trigram_list_vectors', 'next_bigram_list_vectors', 'HECT', 'HECA']\n",
      "0.9965680041261468\n",
      "0.9966377680253382\n",
      "0.9966259109053569\n",
      "0.995861814896774\n",
      "0.9961208468328753\n",
      "0.9968033436552151\n",
      "0.9967757737670327\n",
      "0.9960468566158677\n",
      "0.9964924784028079\n",
      "0.9961197901365814\n",
      "\n",
      " ['Token_vector', 'POS', 'POS_TAG', 'Dependency_Head', 'Dependency_Label', 'trigram_list_vectors', 'next_bigram_list_vectors', 'HECT', 'HECA']\n",
      "0.9962513072728851\n",
      "0.9966418768924793\n",
      "0.9961077722145266\n",
      "0.9958631915936373\n",
      "0.9967563002090153\n",
      "0.996188690857177\n",
      "0.996445578368226\n",
      "0.9956697537684994\n",
      "0.9960045042171105\n",
      "\n",
      " ['Token_vector', 'POS', 'POS_TAG', 'Dependency_Head', 'trigram_list_vectors', 'next_bigram_list_vectors', 'HECT', 'HECA']\n",
      "0.9959274553941755\n",
      "0.9957635870812865\n",
      "0.9959476086276358\n",
      "0.9955879889461844\n",
      "0.9958773165566216\n",
      "0.9975027057621996\n",
      "0.9963796322965732\n",
      "0.9961953600690676\n",
      "\n",
      " ['Token_vector', 'POS', 'POS_TAG', 'Dependency_Head', 'trigram_list_vectors', 'HECT', 'HECA']\n",
      "0.995225803389905\n",
      "0.995875398698189\n",
      "0.9961910199557031\n",
      "0.996955722234256\n",
      "0.9976134754346078\n",
      "0.9967424343151526\n",
      "0.9966712333947964\n",
      "\n",
      " ['Token_vector', 'POS', 'POS_TAG', 'Dependency_Head', 'HECT', 'HECA']\n",
      "0.9969296501550878\n",
      "0.9958305826937763\n",
      "0.9971786683070796\n",
      "0.9972865108041418\n",
      "0.9974977819499233\n",
      "0.996680778537999\n",
      "\n",
      " ['Token_vector', 'POS', 'POS_TAG', 'Dependency_Head', 'HECA']\n",
      "0.9896622867460114\n",
      "0.9965351685587923\n",
      "0.9975007298806935\n",
      "0.9965687068130724\n",
      "0.9968912753577114\n",
      "\n",
      " ['Token_vector', 'POS', 'Dependency_Head', 'HECA']\n",
      "0.9816012181762102\n",
      "0.9967728657939873\n",
      "0.996798070788283\n",
      "0.9967085857066382\n",
      "\n",
      " ['Token_vector', 'POS', 'HECA']\n",
      "0.9854532960520554\n",
      "0.9964407107519919\n",
      "0.9965559162116255\n",
      "\n",
      " ['Token_vector', 'POS']\n",
      "0.972750308152596\n",
      "0.997093893545103\n"
     ]
    }
   ],
   "source": [
    "all_features = ['Token_vector', 'POS', 'POS_TAG', 'Dependency_Head', 'Dependency_Label', 'next_token_vector',\n",
    "                'prev_token_vector', 'trigram_list_vectors', 'prev_bigram_list_vectors', 'next_bigram_list_vectors',\n",
    "                'HECT', 'HECA']\n",
    "\n",
    "order_of_removal, best_scores = feature_ablation(all_features)"
   ]
  },
  {
   "cell_type": "code",
   "execution_count": 6,
   "id": "6e46dd68",
   "metadata": {},
   "outputs": [],
   "source": [
    "order_of_removal.reverse()\n",
    "order_of_removal.append('Use all features')\n",
    "\n",
    "best_scores.reverse()\n",
    "best_scores.append(best_scores[-1])"
   ]
  },
  {
   "cell_type": "code",
   "execution_count": 8,
   "id": "b053d6f3",
   "metadata": {},
   "outputs": [],
   "source": [
    "pd.DataFrame(order_of_removal).to_csv('order_of_removal_SVM.csv', index=False)\n",
    "pd.DataFrame(best_scores).to_csv('best_scores_SVM.csv', index=False)"
   ]
  },
  {
   "cell_type": "code",
   "execution_count": 41,
   "id": "5227f1c9",
   "metadata": {},
   "outputs": [
    {
     "data": {
      "image/png": "[encoded data removed]",
      "text/plain": [
       "<Figure size 864x432 with 1 Axes>"
      ]
     },
     "metadata": {
      "needs_background": "light"
     },
     "output_type": "display_data"
    }
   ],
   "source": [
    "df_bar = pd.DataFrame({'F1-score': best_scores}, columns=['F1-score'], index=order_of_removal)\n",
    "\n",
    "df_bar.plot.barh(figsize=(12,6),\n",
    "                 legend=False,\n",
    "                 xlim=(np.min(best_scores)-0.0001, np.max(best_scores)+0.0001))\n",
    "\n",
    "plt.title('The effect of ablating the least important feature', size=16)\n",
    "plt.xlabel('F1-score', size=14)\n",
    "plt.ylabel('Last ablated feature', size=14)\n",
    "plt.savefig('FAS_CRF.pdf')\n",
    "plt.show()"
   ]
  },
  {
   "cell_type": "code",
   "execution_count": null,
   "id": "e421aa2f",
   "metadata": {},
   "outputs": [],
   "source": []
  },
  {
   "cell_type": "code",
   "execution_count": 9,
   "id": "a7c0dfb1",
   "metadata": {},
   "outputs": [],
   "source": [
    "features_to_use = ['HECT', 'HECA', 'POS', 'Dependency_head', 'POS_TAG']\n",
    "X = get_features(features_to_use, deepcopy(train_data))\n",
    "y = train_data.Negation_cue.values\n",
    "\n",
    "split = int(len(X)*0.75)\n",
    "\n",
    "train_x = X[:split]\n",
    "dev_x = X[split:]\n",
    "train_y = y[:split]\n",
    "dev_y = y[split:]"
   ]
  },
  {
   "cell_type": "markdown",
   "id": "c445489a",
   "metadata": {},
   "source": [
    "# HyperOpt"
   ]
  },
  {
   "cell_type": "code",
   "execution_count": 13,
   "id": "980d873e",
   "metadata": {},
   "outputs": [
    {
     "name": "stdout",
     "output_type": "stream",
     "text": [
      "100%|█████████████████████████████████████████████| 300/300 [17:57<00:00,  3.59s/trial, best loss: -0.9970734592704813]\n"
     ]
    },
    {
     "data": {
      "text/plain": [
       "{'C': 2.6405611285523425, 'gamma': 0, 'kernel': 2}"
      ]
     },
     "execution_count": 13,
     "metadata": {},
     "output_type": "execute_result"
    }
   ],
   "source": [
    "space = {'C': hp.uniform('C', 0.01, 5), # Gives the upper an lower limit\n",
    "         'kernel': hp.choice('kernel', ['linear', 'poly', 'rbf']), # HyperOpt has to choose one\n",
    "         'gamma': hp.choice('gamma', ['scale', 'auto'])} # HyperOpt has to choose one\n",
    "\n",
    "def optimizer(space):\n",
    "    \n",
    "    svm = SVC(C=space['C'],\n",
    "              kernel=space['kernel'],\n",
    "              gamma=space['gamma'])\n",
    "    svm = pipeline.make_pipeline(StandardScaler(), svm)\n",
    "    \n",
    "    svm.fit(train_x, train_y)\n",
    "    \n",
    "    prediction = svm.predict(dev_x)\n",
    "    F1_score = f1_score(dev_y, prediction, average='weighted')\n",
    "    \n",
    "    return {'loss': -F1_score, 'status': STATUS_OK}\n",
    "\n",
    "SVM_trails = Trials()\n",
    "\n",
    "SVM_best = fmin(fn=optimizer,\n",
    "                space=space,\n",
    "                algo=tpe.suggest,\n",
    "                max_evals=300, # Set to a 100 or so for the final run when u know everything is working\n",
    "                trials=SVM_trails)\n",
    "SVM_best"
   ]
  },
  {
   "cell_type": "code",
   "execution_count": 25,
   "id": "2c94dd1f",
   "metadata": {},
   "outputs": [
    {
     "data": {
      "text/plain": [
       "{'C': 2.6405611285523425, 'gamma': 'scale', 'kernel': 'rbf'}"
      ]
     },
     "execution_count": 25,
     "metadata": {},
     "output_type": "execute_result"
    }
   ],
   "source": [
    "SVM_best = hyperopt.space_eval(space, SVM_best)\n",
    "SVM_best"
   ]
  },
  {
   "cell_type": "markdown",
   "id": "c455bd6b",
   "metadata": {},
   "source": [
    "# Results on Dev and Test data"
   ]
  },
  {
   "cell_type": "code",
   "execution_count": 26,
   "id": "017425a7",
   "metadata": {},
   "outputs": [],
   "source": [
    "os.chdir(r'C:\\Users\\StanvanLoon\\OneDrive - Umbrio B.V\\Documents\\Master Business Analytics\\Applied Text Mining\\3. Corpus preprocessing and feature extraction')\n",
    "\n",
    "train_data = pd.read_pickle(r\"C:\\Users\\StanvanLoon\\OneDrive - Umbrio B.V\\Documents\\GitHub\\VU_ATM\\assignment3\\Data\\tmtrain.Preprocessed.pickle\")\n",
    "dev_data = pd.read_pickle(r\"C:\\Users\\StanvanLoon\\OneDrive - Umbrio B.V\\Documents\\GitHub\\VU_ATM\\assignment3\\Data\\tmdev.Preprocessed.pickle\")\n",
    "cardboard_data = pd.read_pickle('Data/SEM-2012-SharedTask-CD-SCO-test-cardboard.Preprocessed.pickle')\n",
    "circle_data = pd.read_pickle('Data/SEM-2012-SharedTask-CD-SCO-test-circle.Preprocessed.pickle')\n",
    "all_data = pd.concat([train_data, dev_data, cardboard_data, circle_data]).reset_index(drop=True)"
   ]
  },
  {
   "cell_type": "code",
   "execution_count": 32,
   "id": "4ddbf2d2",
   "metadata": {},
   "outputs": [],
   "source": [
    "features_to_use = ['HECT', 'HECA', 'POS', 'Dependency_head', 'POS_TAG']\n",
    "\n",
    "X = get_features(features_to_use, deepcopy(all_data))\n",
    "y = all_data.Negation_cue.values"
   ]
  },
  {
   "cell_type": "code",
   "execution_count": 34,
   "id": "ce2dd834",
   "metadata": {},
   "outputs": [
    {
     "name": "stdout",
     "output_type": "stream",
     "text": [
      "65451 65451 65451\n",
      "13567 13567 13567\n",
      "19216 19216 19216\n"
     ]
    }
   ],
   "source": [
    "train_x = X[:len(train_data)]\n",
    "train_y = y[:len(train_data)]\n",
    "\n",
    "dev_x = X[len(train_data):-len(test_data)]\n",
    "dev_y = y[len(train_data):-len(test_data)]\n",
    "\n",
    "test_x = X[-len(test_data):]\n",
    "test_y = y[-len(test_data):]\n",
    "\n",
    "print(len(train_data), len(train_x), len(train_y))\n",
    "print(len(dev_data), len(dev_x), len(dev_y))\n",
    "print(len(cardboard_data) + len(circle_data), len(test_x), len(test_y))"
   ]
  },
  {
   "cell_type": "code",
   "execution_count": 36,
   "id": "d17ec492",
   "metadata": {},
   "outputs": [
    {
     "data": {
      "text/plain": [
       "Pipeline(steps=[('standardscaler', StandardScaler()),\n",
       "                ('svc', SVC(C=2.6405611285523425))])"
      ]
     },
     "execution_count": 36,
     "metadata": {},
     "output_type": "execute_result"
    }
   ],
   "source": [
    "svm = SVC(C=SVM_best['C'],\n",
    "          kernel=SVM_best['kernel'],\n",
    "          gamma=SVM_best['gamma'])\n",
    "svm = pipeline.make_pipeline(StandardScaler(), svm)\n",
    "\n",
    "svm.fit(train_x, train_y)"
   ]
  },
  {
   "cell_type": "markdown",
   "id": "03eb4207",
   "metadata": {},
   "source": [
    "## Development data"
   ]
  },
  {
   "cell_type": "code",
   "execution_count": 37,
   "id": "ad84d62b",
   "metadata": {},
   "outputs": [
    {
     "data": {
      "text/plain": [
       "0.9967513195836512"
      ]
     },
     "execution_count": 37,
     "metadata": {},
     "output_type": "execute_result"
    }
   ],
   "source": [
    "pred_dev = svm.predict(dev_x)\n",
    "f1_score(dev_y, pred_dev, average='weighted')"
   ]
  },
  {
   "cell_type": "code",
   "execution_count": 38,
   "id": "a40c5608",
   "metadata": {},
   "outputs": [
    {
     "data": {
      "image/png": "[encoded data removed]",
      "text/plain": [
       "<Figure size 432x288 with 2 Axes>"
      ]
     },
     "metadata": {
      "needs_background": "light"
     },
     "output_type": "display_data"
    }
   ],
   "source": [
    "confusion_matrix = pd.crosstab(pd.DataFrame(dev_y)[0], pd.DataFrame(pred_dev)[0], rownames=['Actual'], colnames=['Predicted'])\n",
    "sns.heatmap(confusion_matrix, annot=True)\n",
    "plt.suptitle('Confusion matrix for SVM')\n",
    "plt.savefig('CM_SVM_dev.pdf')\n",
    "plt.show()"
   ]
  },
  {
   "cell_type": "markdown",
   "id": "d7b0911a",
   "metadata": {},
   "source": [
    "# Test data"
   ]
  },
  {
   "cell_type": "code",
   "execution_count": 39,
   "id": "1f292349",
   "metadata": {},
   "outputs": [
    {
     "data": {
      "text/plain": [
       "0.9962399179701481"
      ]
     },
     "execution_count": 39,
     "metadata": {},
     "output_type": "execute_result"
    }
   ],
   "source": [
    "pred_test = svm.predict(test_x)\n",
    "f1_score(test_y, pred_test, average='weighted')"
   ]
  },
  {
   "cell_type": "code",
   "execution_count": 40,
   "id": "60df7cef",
   "metadata": {},
   "outputs": [
    {
     "data": {
      "image/png": "[encoded data removed]",
      "text/plain": [
       "<Figure size 432x288 with 2 Axes>"
      ]
     },
     "metadata": {
      "needs_background": "light"
     },
     "output_type": "display_data"
    }
   ],
   "source": [
    "confusion_matrix = pd.crosstab(pd.DataFrame(test_y)[0], pd.DataFrame(pred_test)[0], rownames=['Actual'], colnames=['Predicted'])\n",
    "sns.heatmap(confusion_matrix, annot=True)\n",
    "plt.suptitle('Confusion matrix SCM on test data')\n",
    "plt.savefig('CM_SVM_test.pdf')\n",
    "plt.show()"
   ]
  },
  {
   "cell_type": "markdown",
   "id": "a955de77",
   "metadata": {},
   "source": [
    "# Baseline on the test data"
   ]
  },
  {
   "cell_type": "code",
   "execution_count": 52,
   "id": "63261dfb",
   "metadata": {},
   "outputs": [
    {
     "data": {
      "text/plain": [
       "0.9956888582069178"
      ]
     },
     "execution_count": 52,
     "metadata": {},
     "output_type": "execute_result"
    }
   ],
   "source": [
    "predictions = test_data.HECT + test_data.HECA\n",
    "for i in range(len(predictions)):\n",
    "    if predictions[i] > 0:\n",
    "        predictions[i] = 'B-NEG'\n",
    "    else:\n",
    "        predictions[i] = 'O'\n",
    "\n",
    "actual_values = test_y\n",
    "f1_score(actual_values, predictions, average='weighted')"
   ]
  },
  {
   "cell_type": "code",
   "execution_count": null,
   "id": "8238fd65",
   "metadata": {},
   "outputs": [],
   "source": []
  }
 ],
 "metadata": {
  "kernelspec": {
   "display_name": "Python 3",
   "language": "python",
   "name": "python3"
  },
  "language_info": {
   "codemirror_mode": {
    "name": "ipython",
    "version": 3
   },
   "file_extension": ".py",
   "mimetype": "text/x-python",
   "name": "python",
   "nbconvert_exporter": "python",
   "pygments_lexer": "ipython3",
   "version": "3.8.8"
  }
 },
 "nbformat": 4,
 "nbformat_minor": 5
}
