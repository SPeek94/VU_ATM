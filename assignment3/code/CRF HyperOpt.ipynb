{
 "cells": [
  {
   "cell_type": "code",
   "execution_count": 1,
   "id": "736d1b90",
   "metadata": {},
   "outputs": [],
   "source": [
    "# ! pip install sklearn-crfsuite\n",
    "# ! pip install hyperopt\n",
    "# ! pip install hyperas\n",
    "import os\n",
    "import time\n",
    "import warnings\n",
    "import numpy as np\n",
    "import pandas as pd\n",
    "from copy import deepcopy\n",
    "import matplotlib.pyplot as plt\n",
    "from sklearn_crfsuite import CRF, metrics\n",
    "from IPython.display import display, clear_output\n",
    "\n",
    "import hyperas\n",
    "import hyperopt\n",
    "from hyperas.distributions import uniform\n",
    "from hyperopt import fmin, tpe, hp, STATUS_OK, Trials\n",
    "from hyperas import optim\n",
    "\n",
    "os.chdir(os.getcwd())\n",
    "warnings.filterwarnings('ignore')"
   ]
  },
  {
   "cell_type": "markdown",
   "id": "fefd7b5b",
   "metadata": {},
   "source": [
    "# Final Pre-Processing"
   ]
  },
  {
   "cell_type": "code",
   "execution_count": 2,
   "id": "875eff88",
   "metadata": {},
   "outputs": [],
   "source": [
    "def generate_input(df, features, show=True):\n",
    "    \n",
    "    X, y = [], []\n",
    "    number_of_sentences = len(df.idx_sent.unique())\n",
    "    \n",
    "    for i, sentence_id in enumerate(df.idx_sent.unique()):\n",
    "        if show: print(f'\\rSentence: {i+1}/{number_of_sentences}', end='')\n",
    "        \n",
    "        sentence_data = df[df.idx_sent == sentence_id]\n",
    "\n",
    "        X.append([sentence_data.loc[row, features].to_dict() for row in sentence_data.index])\n",
    "        y.append(sentence_data['Negation_cue'].values)\n",
    "    \n",
    "    return X, y"
   ]
  },
  {
   "cell_type": "code",
   "execution_count": 3,
   "id": "63ca3fb3",
   "metadata": {},
   "outputs": [],
   "source": [
    "train_data = pd.read_csv('Data/tmtrain.Preprocessed.csv', index_col=0)\n",
    "dev_data = pd.read_csv('Data/tmdev.Preprocessed.csv', index_col=0)"
   ]
  },
  {
   "cell_type": "markdown",
   "id": "acd5870d",
   "metadata": {},
   "source": [
    "# Feature Selection"
   ]
  },
  {
   "cell_type": "code",
   "execution_count": 4,
   "id": "d4acace3",
   "metadata": {},
   "outputs": [],
   "source": [
    "all_features = ['Token', 'Lemma', 'POS', 'POS_TAG', 'Dependency_Head', 'Dependency_Label',\n",
    "                'next', 'prev', 'trigram', 'prev_bigram', 'next_bigram', 'HECT', 'HECA']"
   ]
  },
  {
   "cell_type": "code",
   "execution_count": 5,
   "id": "c194961a",
   "metadata": {},
   "outputs": [],
   "source": [
    "def feature_ablation(all_features):\n",
    "    \n",
    "    best_scores = []\n",
    "    order_of_removal = []\n",
    "    features_to_use = all_features.copy()\n",
    "    train_x, train_y = generate_input(train_data, features_to_use, False)\n",
    "    dev_x, dev_y = generate_input(dev_data, features_to_use, False)\n",
    "    \n",
    "    while len(features_to_use) > 1:\n",
    "        \n",
    "        scores = []\n",
    "        print('\\n', features_to_use)\n",
    "\n",
    "        for feature in features_to_use:\n",
    "            \n",
    "            temp_train_x = deepcopy(train_x)\n",
    "            temp_dev_x = deepcopy(dev_x)\n",
    "            \n",
    "            for sentence in temp_train_x:\n",
    "                for word in sentence:\n",
    "                    del word[feature]\n",
    "        \n",
    "            for sentence in temp_dev_x:\n",
    "                for word in sentence:\n",
    "                    del word[feature]            \n",
    "            \n",
    "            # Build new classifier\n",
    "            crf = CRF(algorithm='lbfgs',\n",
    "                      c1=0.1,\n",
    "                      c2=0.1,\n",
    "                      max_iterations=100,\n",
    "                      all_possible_transitions=True)\n",
    "            try: crf.fit(temp_train_x, train_y)\n",
    "            except AttributeError: pass\n",
    "\n",
    "            # Measure performance\n",
    "            prediction = crf.predict(temp_dev_x)\n",
    "            score = metrics.flat_f1_score(dev_y, prediction, average='weighted', labels=list(crf.classes_))\n",
    "            scores.append(score)\n",
    "            print(score)\n",
    "\n",
    "        # Remove worst feature\n",
    "        best_scores.append(np.max(scores))\n",
    "        index_worst_feature = np.argmax(scores)\n",
    "        feature_to_delete = features_to_use[index_worst_feature]\n",
    "        \n",
    "        for sentence in train_x:\n",
    "            for word in sentence:\n",
    "                del word[feature_to_delete]\n",
    "        \n",
    "        for sentence in dev_x:\n",
    "            for word in sentence:\n",
    "                del word[feature_to_delete]\n",
    "        \n",
    "        # Save progress\n",
    "        order_of_removal.append(feature_to_delete)\n",
    "        features_to_use.remove(feature_to_delete)\n",
    "    \n",
    "    return order_of_removal, best_scores"
   ]
  },
  {
   "cell_type": "code",
   "execution_count": 6,
   "id": "efd02a54",
   "metadata": {},
   "outputs": [
    {
     "name": "stdout",
     "output_type": "stream",
     "text": [
      "\n",
      " ['Token', 'Lemma', 'POS', 'POS_TAG', 'Dependency_Head', 'Dependency_Label', 'next', 'prev', 'trigram', 'prev_bigram', 'next_bigram', 'HECT', 'HECA']\n",
      "0.9972501448476203\n",
      "0.9972501448476203\n",
      "0.9971781438385873\n",
      "0.9972501448476203\n",
      "0.9971781438385873\n",
      "0.9972501448476203\n",
      "0.9971781438385873\n",
      "0.9972501448476203\n",
      "0.9970976414723567\n",
      "0.9970976414723567\n",
      "0.9971781438385873\n",
      "0.9971781438385873\n",
      "0.9966703372147931\n",
      "\n",
      " ['Lemma', 'POS', 'POS_TAG', 'Dependency_Head', 'Dependency_Label', 'next', 'prev', 'trigram', 'prev_bigram', 'next_bigram', 'HECT', 'HECA']\n",
      "0.9972501448476203\n",
      "0.9972501448476203\n",
      "0.9972501448476203\n",
      "0.9971781438385873\n",
      "0.9972501448476203\n",
      "0.9971781438385873\n",
      "0.9972501448476203\n",
      "0.9970976414723567\n",
      "0.9970976414723567\n",
      "0.9971063523377965\n",
      "0.9970888227590222\n",
      "0.9966703372147931\n",
      "\n",
      " ['POS', 'POS_TAG', 'Dependency_Head', 'Dependency_Label', 'next', 'prev', 'trigram', 'prev_bigram', 'next_bigram', 'HECT', 'HECA']\n",
      "0.9971781438385873\n",
      "0.9971781438385873\n",
      "0.9972501448476203\n",
      "0.9972501448476203\n",
      "0.9972501448476203\n",
      "0.9971781438385873\n",
      "0.9972501448476203\n",
      "0.9971696162488423\n",
      "0.9971781438385873\n",
      "0.9951891562748939\n",
      "0.9965045456633533\n",
      "\n",
      " ['POS', 'POS_TAG', 'Dependency_Label', 'next', 'prev', 'trigram', 'prev_bigram', 'next_bigram', 'HECT', 'HECA']\n",
      "0.9972501448476203\n",
      "0.9971781438385873\n",
      "0.9972501448476203\n",
      "0.9972501448476203\n",
      "0.9971781438385873\n",
      "0.9972501448476203\n",
      "0.9971696162488423\n",
      "0.9971781438385873\n",
      "0.9951891562748939\n",
      "0.9965045456633533\n",
      "\n",
      " ['POS_TAG', 'Dependency_Label', 'next', 'prev', 'trigram', 'prev_bigram', 'next_bigram', 'HECT', 'HECA']\n",
      "0.9970077619149551\n",
      "0.9972501448476203\n",
      "0.9972501448476203\n",
      "0.9971781438385873\n",
      "0.9972501448476203\n",
      "0.9971696162488423\n",
      "0.9971781438385873\n",
      "0.9949397155721836\n",
      "0.9965045456633533\n",
      "\n",
      " ['POS_TAG', 'next', 'prev', 'trigram', 'prev_bigram', 'next_bigram', 'HECT', 'HECA']\n",
      "0.9967528058056551\n",
      "0.9972501448476203\n",
      "0.9971781438385873\n",
      "0.9972501448476203\n",
      "0.9972501448476203\n",
      "0.9971781438385873\n",
      "0.9937480998303357\n",
      "0.9960889935032997\n",
      "\n",
      " ['POS_TAG', 'prev', 'trigram', 'prev_bigram', 'next_bigram', 'HECT', 'HECA']\n",
      "0.9965045456633533\n",
      "0.9971781438385873\n",
      "0.9972501448476203\n",
      "0.9971696162488423\n",
      "0.9971781438385873\n",
      "0.9933682349461138\n",
      "0.9960889935032997\n",
      "\n",
      " ['POS_TAG', 'prev', 'prev_bigram', 'next_bigram', 'HECT', 'HECA']\n",
      "0.9965875847354807\n",
      "0.9970976414723567\n",
      "0.9970077619149551\n",
      "0.9974901654846495\n",
      "0.9937480998303357\n",
      "0.9965045456633533\n",
      "\n",
      " ['POS_TAG', 'prev', 'prev_bigram', 'HECT', 'HECA']\n",
      "0.9967629501677201\n",
      "0.9966904676580352\n",
      "0.9972061214913029\n",
      "0.9932285949548817\n",
      "0.9961725738042935\n",
      "\n",
      " ['POS_TAG', 'prev', 'HECT', 'HECA']\n",
      "0.9961009206084164\n",
      "0.9965187397501329\n",
      "0.9860740208732119\n",
      "0.9959436316679985\n",
      "\n",
      " ['POS_TAG', 'HECT', 'HECA']\n",
      "0.995758461737477\n",
      "0.9820901453995562\n",
      "0.9956846821324533\n",
      "\n",
      " ['HECT', 'HECA']\n",
      "0.9841873758205376\n",
      "0.995758461737477\n"
     ]
    }
   ],
   "source": [
    "order_of_removal, best_scores = feature_ablation(all_features)"
   ]
  },
  {
   "cell_type": "code",
   "execution_count": 7,
   "id": "d0b09788",
   "metadata": {},
   "outputs": [
    {
     "data": {
      "text/plain": [
       "['Token',\n",
       " 'Lemma',\n",
       " 'Dependency_Head',\n",
       " 'POS',\n",
       " 'Dependency_Label',\n",
       " 'next',\n",
       " 'trigram',\n",
       " 'next_bigram',\n",
       " 'prev_bigram',\n",
       " 'prev',\n",
       " 'POS_TAG',\n",
       " 'HECA']"
      ]
     },
     "execution_count": 7,
     "metadata": {},
     "output_type": "execute_result"
    }
   ],
   "source": [
    "order_of_removal"
   ]
  },
  {
   "cell_type": "code",
   "execution_count": 8,
   "id": "f4495f81",
   "metadata": {},
   "outputs": [
    {
     "data": {
      "text/plain": [
       "[0.9972501448476203,\n",
       " 0.9972501448476203,\n",
       " 0.9972501448476203,\n",
       " 0.9972501448476203,\n",
       " 0.9972501448476203,\n",
       " 0.9972501448476203,\n",
       " 0.9972501448476203,\n",
       " 0.9974901654846495,\n",
       " 0.9972061214913029,\n",
       " 0.9965187397501329,\n",
       " 0.995758461737477,\n",
       " 0.995758461737477]"
      ]
     },
     "execution_count": 8,
     "metadata": {},
     "output_type": "execute_result"
    }
   ],
   "source": [
    "best_scores"
   ]
  },
  {
   "cell_type": "code",
   "execution_count": 9,
   "id": "1db5a731",
   "metadata": {},
   "outputs": [],
   "source": [
    "pd.DataFrame(order_of_removal).to_csv('order_of_removal2.csv', index=False)\n",
    "pd.DataFrame(best_scores).to_csv('best_scores2.csv', index=False)"
   ]
  },
  {
   "cell_type": "code",
   "execution_count": 10,
   "id": "fbe9fe64",
   "metadata": {},
   "outputs": [
    {
     "data": {
      "text/plain": [
       "['HECA',\n",
       " 'POS_TAG',\n",
       " 'prev',\n",
       " 'prev_bigram',\n",
       " 'next_bigram',\n",
       " 'trigram',\n",
       " 'next',\n",
       " 'Dependency_Label',\n",
       " 'POS',\n",
       " 'Dependency_Head',\n",
       " 'Lemma',\n",
       " 'Token',\n",
       " 'Use all features']"
      ]
     },
     "execution_count": 10,
     "metadata": {},
     "output_type": "execute_result"
    }
   ],
   "source": [
    "order_of_removal = pd.read_csv('order_of_removal2.csv')['0'].tolist()\n",
    "best_scores = pd.read_csv('best_scores2.csv')['0'].tolist()\n",
    "\n",
    "order_of_removal.reverse()\n",
    "order_of_removal.append('Use all features')\n",
    "\n",
    "best_scores.reverse()\n",
    "best_scores.append(0.9972501448476203)\n",
    "\n",
    "order_of_removal"
   ]
  },
  {
   "cell_type": "code",
   "execution_count": 11,
   "id": "b8c8bcb6",
   "metadata": {},
   "outputs": [],
   "source": [
    "order_of_removal = ['HECA', 'POS-tag', 'Prev_token', 'Prev_bigram', 'Next_bigram', 'Trigram',\n",
    "                    'Next_token',  'Dep_label', 'POS', 'Dep_head', 'Lemma', 'Token', 'Use all features']"
   ]
  },
  {
   "cell_type": "code",
   "execution_count": 49,
   "id": "ae07e3e0",
   "metadata": {},
   "outputs": [
    {
     "data": {
      "image/png": "[encoded data removed]",
      "text/plain": [
       "<Figure size 864x432 with 1 Axes>"
      ]
     },
     "metadata": {
      "needs_background": "light"
     },
     "output_type": "display_data"
    }
   ],
   "source": [
    "df_bar = pd.DataFrame({'F1-score': best_scores}, columns=['F1-score'], index=order_of_removal)\n",
    "\n",
    "df_bar.plot.barh(figsize=(12,6),\n",
    "                 legend=False,\n",
    "                 xlim=(np.min(best_scores)-0.0001, np.max(best_scores)+0.0001))\n",
    "\n",
    "plt.title('The effect of ablating the least important feature', size=16)\n",
    "plt.xlabel('F1-score', size=14)\n",
    "plt.ylabel('Last ablated feature', size=14)\n",
    "plt.savefig('FAS_CRF.pdf')\n",
    "plt.show()"
   ]
  },
  {
   "cell_type": "code",
   "execution_count": 13,
   "id": "692b10cd",
   "metadata": {},
   "outputs": [
    {
     "name": "stdout",
     "output_type": "stream",
     "text": [
      "Train data:\n",
      "Sentence: 3644/3644\n",
      "\n",
      "Development data:\n",
      "Sentence: 787/787"
     ]
    }
   ],
   "source": [
    "features_to_use = ['HECT', 'HECA', 'POS_TAG', 'prev', 'prev_bigram']\n",
    "\n",
    "print('Train data:')\n",
    "train_x, train_y = generate_input(train_data, features_to_use)\n",
    "print('\\n\\nDevelopment data:')\n",
    "dev_x, dev_y = generate_input(dev_data, features_to_use)"
   ]
  },
  {
   "cell_type": "code",
   "execution_count": 17,
   "id": "2855aefb",
   "metadata": {},
   "outputs": [
    {
     "data": {
      "text/plain": [
       "0.9974901654846495"
      ]
     },
     "execution_count": 17,
     "metadata": {},
     "output_type": "execute_result"
    }
   ],
   "source": [
    "crf = CRF(algorithm='lbfgs',\n",
    "          c1=0.1,\n",
    "          c2=0.1,\n",
    "          max_iterations=100,\n",
    "          all_possible_transitions=True)\n",
    "try: crf.fit(train_x, train_y)\n",
    "except AttributeError: pass\n",
    "\n",
    "prediction = crf.predict(dev_x)\n",
    "metrics.flat_f1_score(dev_y, prediction, average='weighted', labels=list(crf.classes_))"
   ]
  },
  {
   "cell_type": "markdown",
   "id": "c445489a",
   "metadata": {},
   "source": [
    "# HyperOpt"
   ]
  },
  {
   "cell_type": "code",
   "execution_count": 18,
   "id": "980d873e",
   "metadata": {},
   "outputs": [
    {
     "name": "stdout",
     "output_type": "stream",
     "text": [
      "100%|█████████████████████████████████████████████| 100/100 [02:16<00:00,  1.36s/trial, best loss: -0.9974901654846495]\n"
     ]
    },
    {
     "data": {
      "text/plain": [
       "{'c1': 0.049750683223734174, 'c2': 0.1323605532276545}"
      ]
     },
     "execution_count": 18,
     "metadata": {},
     "output_type": "execute_result"
    }
   ],
   "source": [
    "space = {'c1': hp.uniform('c1', 0.01, 0.99),\n",
    "         'c2': hp.uniform('c2', 0.01, 0.99)}\n",
    "\n",
    "def optimizer(space):\n",
    "    \n",
    "    crf = CRF(algorithm='lbfgs',\n",
    "              c1=space['c1'],\n",
    "              c2=space['c2'],\n",
    "              max_iterations=100,\n",
    "              all_possible_transitions=True)\n",
    "\n",
    "    try: crf.fit(train_x, train_y)\n",
    "    except AttributeError: pass\n",
    "    \n",
    "    prediction = crf.predict(dev_x)\n",
    "    F1_score = metrics.flat_f1_score(dev_y, prediction, average='weighted', labels=list(crf.classes_))\n",
    "    \n",
    "    return {'loss': -F1_score, 'status': STATUS_OK}\n",
    "\n",
    "CRF_trails = Trials()\n",
    "\n",
    "CRF_best = fmin(fn=optimizer,\n",
    "                space=space,\n",
    "                algo=tpe.suggest,\n",
    "                max_evals=100,\n",
    "                trials=CRF_trails)\n",
    "CRF_best"
   ]
  },
  {
   "cell_type": "raw",
   "id": "bc6bbaf0",
   "metadata": {},
   "source": [
    "c1 = 0.16993; c2 = 0.03420\n",
    "c1 = 0.09045; c2 = 0.49679\n",
    "c1 = 0.04975; c2 = 0.13236"
   ]
  },
  {
   "cell_type": "code",
   "execution_count": 26,
   "id": "d17ec492",
   "metadata": {},
   "outputs": [
    {
     "data": {
      "text/plain": [
       "0.9974901654846495"
      ]
     },
     "execution_count": 26,
     "metadata": {},
     "output_type": "execute_result"
    }
   ],
   "source": [
    "crf = CRF(algorithm='lbfgs',\n",
    "          c1=CRF_best['c1'],\n",
    "          c2=CRF_best['c2'],\n",
    "          max_iterations=100,\n",
    "          all_possible_transitions=True)\n",
    "\n",
    "try: crf.fit(train_x, train_y)\n",
    "except AttributeError: pass\n",
    "\n",
    "prediction = crf.predict(dev_x)\n",
    "metrics.flat_f1_score(dev_y, prediction, average='weighted', labels=list(crf.classes_))"
   ]
  },
  {
   "cell_type": "code",
   "execution_count": 27,
   "id": "3a3da94d",
   "metadata": {},
   "outputs": [
    {
     "data": {
      "text/plain": [
       "0.9975676273310238"
      ]
     },
     "execution_count": 27,
     "metadata": {},
     "output_type": "execute_result"
    }
   ],
   "source": [
    "metrics.flat_accuracy_score(dev_y, prediction)"
   ]
  },
  {
   "cell_type": "code",
   "execution_count": 51,
   "id": "a40c5608",
   "metadata": {},
   "outputs": [
    {
     "data": {
      "image/png": "[encoded data removed]",
      "text/plain": [
       "<Figure size 432x288 with 2 Axes>"
      ]
     },
     "metadata": {
      "needs_background": "light"
     },
     "output_type": "display_data"
    }
   ],
   "source": [
    "import seaborn as sns\n",
    "\n",
    "def flatten(array):\n",
    "    result = []\n",
    "    for i in array: result.extend(i)\n",
    "    return result\n",
    "\n",
    "dev_y_flat = flatten(dev_y)\n",
    "pred_flat = flatten(prediction)\n",
    "\n",
    "confusion_matrix = pd.crosstab(pd.DataFrame(dev_y_flat)[0], pd.DataFrame(pred_flat)[0], rownames=['Actual'], colnames=['Predicted'])\n",
    "sns.heatmap(confusion_matrix, annot=True)\n",
    "plt.suptitle('Confusion matrix for CRF')\n",
    "plt.savefig('CM_CRF.pdf')\n",
    "plt.show()"
   ]
  },
  {
   "cell_type": "code",
   "execution_count": null,
   "id": "4e9dda2f",
   "metadata": {},
   "outputs": [],
   "source": []
  },
  {
   "cell_type": "markdown",
   "id": "190646f6",
   "metadata": {},
   "source": [
    "# Test data"
   ]
  },
  {
   "cell_type": "code",
   "execution_count": null,
   "id": "017425a7",
   "metadata": {},
   "outputs": [],
   "source": []
  }
 ],
 "metadata": {
  "kernelspec": {
   "display_name": "Python 3",
   "language": "python",
   "name": "python3"
  },
  "language_info": {
   "codemirror_mode": {
    "name": "ipython",
    "version": 3
   },
   "file_extension": ".py",
   "mimetype": "text/x-python",
   "name": "python",
   "nbconvert_exporter": "python",
   "pygments_lexer": "ipython3",
   "version": "3.8.8"
  }
 },
 "nbformat": 4,
 "nbformat_minor": 5
}
