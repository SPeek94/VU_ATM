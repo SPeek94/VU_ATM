{
 "cells": [
  {
   "cell_type": "code",
   "execution_count": 1,
   "id": "736d1b90",
   "metadata": {},
   "outputs": [],
   "source": [
    "# ! pip install sklearn-crfsuite\n",
    "# https://sklearn-crfsuite.readthedocs.io/en/latest/tutorial.html\n",
    "import os\n",
    "import time\n",
    "import numpy as np\n",
    "import pandas as pd\n",
    "from sklearn_crfsuite import CRF, metrics\n",
    "from IPython.display import display, clear_output\n",
    "os.chdir(os.getcwd())"
   ]
  },
  {
   "cell_type": "code",
   "execution_count": 2,
   "id": "b603e5c0",
   "metadata": {},
   "outputs": [
    {
     "data": {
      "text/html": [
       "<div>\n",
       "<style scoped>\n",
       "    .dataframe tbody tr th:only-of-type {\n",
       "        vertical-align: middle;\n",
       "    }\n",
       "\n",
       "    .dataframe tbody tr th {\n",
       "        vertical-align: top;\n",
       "    }\n",
       "\n",
       "    .dataframe thead th {\n",
       "        text-align: right;\n",
       "    }\n",
       "</style>\n",
       "<table border=\"1\" class=\"dataframe\">\n",
       "  <thead>\n",
       "    <tr style=\"text-align: right;\">\n",
       "      <th></th>\n",
       "      <th>document</th>\n",
       "      <th>sentence</th>\n",
       "      <th>token</th>\n",
       "      <th>word</th>\n",
       "      <th>lemma</th>\n",
       "      <th>pos</th>\n",
       "      <th>tag</th>\n",
       "      <th>dependency</th>\n",
       "      <th>shape_</th>\n",
       "      <th>is_alpha</th>\n",
       "      <th>is_stop</th>\n",
       "      <th>trigram</th>\n",
       "      <th>negation</th>\n",
       "    </tr>\n",
       "  </thead>\n",
       "  <tbody>\n",
       "    <tr>\n",
       "      <th>0</th>\n",
       "      <td>baskervilles01</td>\n",
       "      <td>0</td>\n",
       "      <td>0</td>\n",
       "      <td>Chapter</td>\n",
       "      <td>chapter</td>\n",
       "      <td>NOUN</td>\n",
       "      <td>NN</td>\n",
       "      <td>ROOT</td>\n",
       "      <td>Xxxxx</td>\n",
       "      <td>1</td>\n",
       "      <td>0</td>\n",
       "      <td>Chapter 1 Mr.</td>\n",
       "      <td>O</td>\n",
       "    </tr>\n",
       "    <tr>\n",
       "      <th>1</th>\n",
       "      <td>baskervilles01</td>\n",
       "      <td>0</td>\n",
       "      <td>1</td>\n",
       "      <td>1.</td>\n",
       "      <td>1</td>\n",
       "      <td>NUM</td>\n",
       "      <td>CD</td>\n",
       "      <td>nummod</td>\n",
       "      <td>d</td>\n",
       "      <td>0</td>\n",
       "      <td>0</td>\n",
       "      <td>Chapter 1 Mr.</td>\n",
       "      <td>O</td>\n",
       "    </tr>\n",
       "    <tr>\n",
       "      <th>2</th>\n",
       "      <td>baskervilles01</td>\n",
       "      <td>0</td>\n",
       "      <td>2</td>\n",
       "      <td>Mr.</td>\n",
       "      <td>Mr.</td>\n",
       "      <td>PROPN</td>\n",
       "      <td>NNP</td>\n",
       "      <td>compound</td>\n",
       "      <td>Xx.</td>\n",
       "      <td>0</td>\n",
       "      <td>0</td>\n",
       "      <td>1 Mr. Sherlock</td>\n",
       "      <td>O</td>\n",
       "    </tr>\n",
       "    <tr>\n",
       "      <th>3</th>\n",
       "      <td>baskervilles01</td>\n",
       "      <td>0</td>\n",
       "      <td>3</td>\n",
       "      <td>Sherlock</td>\n",
       "      <td>Sherlock</td>\n",
       "      <td>PROPN</td>\n",
       "      <td>NNP</td>\n",
       "      <td>compound</td>\n",
       "      <td>Xxxxx</td>\n",
       "      <td>1</td>\n",
       "      <td>0</td>\n",
       "      <td>Mr. Sherlock Holmes</td>\n",
       "      <td>O</td>\n",
       "    </tr>\n",
       "    <tr>\n",
       "      <th>4</th>\n",
       "      <td>baskervilles01</td>\n",
       "      <td>0</td>\n",
       "      <td>4</td>\n",
       "      <td>Holmes</td>\n",
       "      <td>Holmes</td>\n",
       "      <td>PROPN</td>\n",
       "      <td>NNP</td>\n",
       "      <td>ROOT</td>\n",
       "      <td>Xxxxx</td>\n",
       "      <td>1</td>\n",
       "      <td>0</td>\n",
       "      <td>Sherlock Holmes Mr.</td>\n",
       "      <td>O</td>\n",
       "    </tr>\n",
       "  </tbody>\n",
       "</table>\n",
       "</div>"
      ],
      "text/plain": [
       "         document  sentence  token      word     lemma    pos  tag dependency  \\\n",
       "0  baskervilles01         0      0   Chapter   chapter   NOUN   NN       ROOT   \n",
       "1  baskervilles01         0      1        1.         1    NUM   CD     nummod   \n",
       "2  baskervilles01         0      2       Mr.       Mr.  PROPN  NNP   compound   \n",
       "3  baskervilles01         0      3  Sherlock  Sherlock  PROPN  NNP   compound   \n",
       "4  baskervilles01         0      4    Holmes    Holmes  PROPN  NNP       ROOT   \n",
       "\n",
       "  shape_  is_alpha  is_stop              trigram negation  \n",
       "0  Xxxxx         1        0        Chapter 1 Mr.        O  \n",
       "1      d         0        0        Chapter 1 Mr.        O  \n",
       "2    Xx.         0        0       1 Mr. Sherlock        O  \n",
       "3  Xxxxx         1        0  Mr. Sherlock Holmes        O  \n",
       "4  Xxxxx         1        0  Sherlock Holmes Mr.        O  "
      ]
     },
     "execution_count": 2,
     "metadata": {},
     "output_type": "execute_result"
    }
   ],
   "source": [
    "data = pd.read_csv('train_data_features_alligned.csv')\n",
    "data.head()"
   ]
  },
  {
   "cell_type": "code",
   "execution_count": 4,
   "id": "1e2bf0a7",
   "metadata": {},
   "outputs": [
    {
     "data": {
      "text/html": [
       "<div>\n",
       "<style scoped>\n",
       "    .dataframe tbody tr th:only-of-type {\n",
       "        vertical-align: middle;\n",
       "    }\n",
       "\n",
       "    .dataframe tbody tr th {\n",
       "        vertical-align: top;\n",
       "    }\n",
       "\n",
       "    .dataframe thead th {\n",
       "        text-align: right;\n",
       "    }\n",
       "</style>\n",
       "<table border=\"1\" class=\"dataframe\">\n",
       "  <thead>\n",
       "    <tr style=\"text-align: right;\">\n",
       "      <th></th>\n",
       "      <th>document</th>\n",
       "      <th>sentence</th>\n",
       "      <th>token</th>\n",
       "      <th>word</th>\n",
       "      <th>lemma</th>\n",
       "      <th>pos</th>\n",
       "      <th>tag</th>\n",
       "      <th>dependency</th>\n",
       "      <th>shape_</th>\n",
       "      <th>is_alpha</th>\n",
       "      <th>is_stop</th>\n",
       "      <th>trigram</th>\n",
       "      <th>negation</th>\n",
       "    </tr>\n",
       "  </thead>\n",
       "  <tbody>\n",
       "    <tr>\n",
       "      <th>328</th>\n",
       "      <td>baskervilles01</td>\n",
       "      <td>16</td>\n",
       "      <td>0</td>\n",
       "      <td>``</td>\n",
       "      <td>``</td>\n",
       "      <td>PUNCT</td>\n",
       "      <td>``</td>\n",
       "      <td>punct</td>\n",
       "      <td>`</td>\n",
       "      <td>0</td>\n",
       "      <td>0</td>\n",
       "      <td>'' `` Good</td>\n",
       "      <td>O</td>\n",
       "    </tr>\n",
       "    <tr>\n",
       "      <th>329</th>\n",
       "      <td>baskervilles01</td>\n",
       "      <td>16</td>\n",
       "      <td>1</td>\n",
       "      <td>Good</td>\n",
       "      <td>good</td>\n",
       "      <td>ADJ</td>\n",
       "      <td>JJ</td>\n",
       "      <td>ROOT</td>\n",
       "      <td>Xxxx</td>\n",
       "      <td>1</td>\n",
       "      <td>0</td>\n",
       "      <td>`` Good !</td>\n",
       "      <td>O</td>\n",
       "    </tr>\n",
       "    <tr>\n",
       "      <th>330</th>\n",
       "      <td>baskervilles01</td>\n",
       "      <td>16</td>\n",
       "      <td>2</td>\n",
       "      <td>!</td>\n",
       "      <td>!</td>\n",
       "      <td>PUNCT</td>\n",
       "      <td>.</td>\n",
       "      <td>punct</td>\n",
       "      <td>!</td>\n",
       "      <td>0</td>\n",
       "      <td>0</td>\n",
       "      <td>Good ! ''</td>\n",
       "      <td>O</td>\n",
       "    </tr>\n",
       "    <tr>\n",
       "      <th>331</th>\n",
       "      <td>baskervilles01</td>\n",
       "      <td>16</td>\n",
       "      <td>3</td>\n",
       "      <td>''</td>\n",
       "      <td>''</td>\n",
       "      <td>PUNCT</td>\n",
       "      <td>''</td>\n",
       "      <td>punct</td>\n",
       "      <td>''</td>\n",
       "      <td>0</td>\n",
       "      <td>0</td>\n",
       "      <td>! '' said</td>\n",
       "      <td>O</td>\n",
       "    </tr>\n",
       "    <tr>\n",
       "      <th>332</th>\n",
       "      <td>baskervilles01</td>\n",
       "      <td>16</td>\n",
       "      <td>4</td>\n",
       "      <td>said</td>\n",
       "      <td>say</td>\n",
       "      <td>VERB</td>\n",
       "      <td>VBD</td>\n",
       "      <td>ROOT</td>\n",
       "      <td>xxxx</td>\n",
       "      <td>1</td>\n",
       "      <td>0</td>\n",
       "      <td>'' said Holmes</td>\n",
       "      <td>O</td>\n",
       "    </tr>\n",
       "    <tr>\n",
       "      <th>333</th>\n",
       "      <td>baskervilles01</td>\n",
       "      <td>16</td>\n",
       "      <td>5</td>\n",
       "      <td>Holmes</td>\n",
       "      <td>Holmes</td>\n",
       "      <td>PROPN</td>\n",
       "      <td>NNP</td>\n",
       "      <td>nsubj</td>\n",
       "      <td>Xxxxx</td>\n",
       "      <td>1</td>\n",
       "      <td>0</td>\n",
       "      <td>said Holmes .</td>\n",
       "      <td>O</td>\n",
       "    </tr>\n",
       "    <tr>\n",
       "      <th>334</th>\n",
       "      <td>baskervilles01</td>\n",
       "      <td>16</td>\n",
       "      <td>6</td>\n",
       "      <td>.</td>\n",
       "      <td>.</td>\n",
       "      <td>PUNCT</td>\n",
       "      <td>.</td>\n",
       "      <td>punct</td>\n",
       "      <td>.</td>\n",
       "      <td>0</td>\n",
       "      <td>0</td>\n",
       "      <td>Holmes . ``</td>\n",
       "      <td>O</td>\n",
       "    </tr>\n",
       "  </tbody>\n",
       "</table>\n",
       "</div>"
      ],
      "text/plain": [
       "           document  sentence  token    word   lemma    pos  tag dependency  \\\n",
       "328  baskervilles01        16      0      ``      ``  PUNCT   ``      punct   \n",
       "329  baskervilles01        16      1    Good    good    ADJ   JJ       ROOT   \n",
       "330  baskervilles01        16      2       !       !  PUNCT    .      punct   \n",
       "331  baskervilles01        16      3      ''      ''  PUNCT   ''      punct   \n",
       "332  baskervilles01        16      4    said     say   VERB  VBD       ROOT   \n",
       "333  baskervilles01        16      5  Holmes  Holmes  PROPN  NNP      nsubj   \n",
       "334  baskervilles01        16      6       .       .  PUNCT    .      punct   \n",
       "\n",
       "    shape_  is_alpha  is_stop         trigram negation  \n",
       "328      `         0        0      '' `` Good        O  \n",
       "329   Xxxx         1        0       `` Good !        O  \n",
       "330      !         0        0       Good ! ''        O  \n",
       "331     ''         0        0       ! '' said        O  \n",
       "332   xxxx         1        0  '' said Holmes        O  \n",
       "333  Xxxxx         1        0   said Holmes .        O  \n",
       "334      .         0        0     Holmes . ``        O  "
      ]
     },
     "execution_count": 4,
     "metadata": {},
     "output_type": "execute_result"
    }
   ],
   "source": [
    "data[(data.sentence == 16) & (data.document == 'baskervilles01')]"
   ]
  },
  {
   "cell_type": "code",
   "execution_count": null,
   "id": "0b50a234",
   "metadata": {},
   "outputs": [],
   "source": []
  },
  {
   "cell_type": "code",
   "execution_count": null,
   "id": "5b298123",
   "metadata": {},
   "outputs": [],
   "source": []
  },
  {
   "cell_type": "code",
   "execution_count": null,
   "id": "ca28bde7",
   "metadata": {},
   "outputs": [],
   "source": []
  },
  {
   "cell_type": "code",
   "execution_count": null,
   "id": "05ef848d",
   "metadata": {},
   "outputs": [],
   "source": []
  },
  {
   "cell_type": "code",
   "execution_count": null,
   "id": "52794abc",
   "metadata": {},
   "outputs": [],
   "source": []
  },
  {
   "cell_type": "code",
   "execution_count": null,
   "id": "095750af",
   "metadata": {},
   "outputs": [],
   "source": []
  },
  {
   "cell_type": "code",
   "execution_count": null,
   "id": "21276591",
   "metadata": {},
   "outputs": [],
   "source": []
  },
  {
   "cell_type": "code",
   "execution_count": null,
   "id": "c07b123f",
   "metadata": {},
   "outputs": [],
   "source": []
  },
  {
   "cell_type": "markdown",
   "id": "fefd7b5b",
   "metadata": {},
   "source": [
    "# Final Pre-Processing"
   ]
  },
  {
   "cell_type": "code",
   "execution_count": 2,
   "id": "875eff88",
   "metadata": {},
   "outputs": [],
   "source": [
    "def generate_input_data(data):\n",
    "    data['prev_word'] = data.lemma.shift()\n",
    "    data['next_word'] = data.lemma.shift(-1)\n",
    "\n",
    "    data['trigram'] = data.lemma.shift() + ' ' +  data.lemma + ' ' + data.lemma.shift(-1)\n",
    "    data.loc[0, 'trigram'] = data.trigram[1]\n",
    "    data.loc[len(data)-1, 'trigram'] = data.trigram[len(data)-2]\n",
    "\n",
    "    data = data[['document', 'sentence', 'token', 'word', 'lemma', 'prev_word', 'next_word', 'trigram',\n",
    "                 'pos', 'tag', 'dependency', 'shape_', 'is_alpha', 'is_stop', 'negation']]\n",
    "    \n",
    "    features = data.columns[2:-1].values\n",
    "    response = data.columns[-1]\n",
    "    \n",
    "    input_x = []\n",
    "    input_y = []\n",
    "\n",
    "    doc_len = len(data.document.unique())\n",
    "    for i, document_id in enumerate(data.document.unique()):\n",
    "        print(f'\\rDocument: {i+1}/{doc_len}', end='')\n",
    "\n",
    "        for sentence_id in data[data.document == document_id].sentence.unique():\n",
    "\n",
    "            sentence_data = data[(data.document == document_id) & (data.sentence == sentence_id)]\n",
    "\n",
    "            input_x.append([sentence_data.loc[row, features].to_dict() for row in sentence_data.index])\n",
    "            input_y.append(sentence_data[response].values)\n",
    "    \n",
    "    return input_x, input_y"
   ]
  },
  {
   "cell_type": "code",
   "execution_count": 3,
   "id": "c511ad12",
   "metadata": {},
   "outputs": [
    {
     "name": "stdout",
     "output_type": "stream",
     "text": [
      "Document: 14/14"
     ]
    }
   ],
   "source": [
    "train_data = pd.read_csv('train_data_features_alligned.csv')\n",
    "train_x, train_y = generate_input_data(train_data)"
   ]
  },
  {
   "cell_type": "code",
   "execution_count": 4,
   "id": "3803c8f2",
   "metadata": {},
   "outputs": [
    {
     "name": "stdout",
     "output_type": "stream",
     "text": [
      "Document: 2/2"
     ]
    }
   ],
   "source": [
    "val_data = pd.read_csv('val_data_features_alligned.csv')\n",
    "val_x, val_y = generate_input_data(val_data)"
   ]
  },
  {
   "cell_type": "markdown",
   "id": "acd5870d",
   "metadata": {},
   "source": [
    "# Conditional Random Fields (CRF)"
   ]
  },
  {
   "cell_type": "code",
   "execution_count": 5,
   "id": "b93ffaf9",
   "metadata": {},
   "outputs": [
    {
     "name": "stdout",
     "output_type": "stream",
     "text": [
      "Wall time: 20.3 s\n"
     ]
    }
   ],
   "source": [
    "%%time\n",
    "crf = CRF(algorithm='lbfgs',\n",
    "          c1=0.1,\n",
    "          c2=0.1,\n",
    "          max_iterations=1000,\n",
    "          all_possible_transitions=True)\n",
    "\n",
    "try:\n",
    "    crf.fit(train_x, train_y)\n",
    "except AttributeError:\n",
    "    pass"
   ]
  },
  {
   "cell_type": "markdown",
   "id": "27ceb49e",
   "metadata": {},
   "source": [
    "## Validation"
   ]
  },
  {
   "cell_type": "code",
   "execution_count": 6,
   "id": "9ae05f74",
   "metadata": {},
   "outputs": [],
   "source": [
    "prediction = crf.predict(val_x)"
   ]
  },
  {
   "cell_type": "code",
   "execution_count": 7,
   "id": "bcde05bc",
   "metadata": {},
   "outputs": [
    {
     "data": {
      "text/plain": [
       "0.8813297468790952"
      ]
     },
     "execution_count": 7,
     "metadata": {},
     "output_type": "execute_result"
    }
   ],
   "source": [
    "labels = list(crf.classes_)\n",
    "labels.remove('O')\n",
    "metrics.flat_f1_score(val_y, prediction, average='weighted', labels=labels)"
   ]
  },
  {
   "cell_type": "markdown",
   "id": "f4871d84",
   "metadata": {},
   "source": [
    "## Test"
   ]
  },
  {
   "cell_type": "code",
   "execution_count": 11,
   "id": "e595f17b",
   "metadata": {},
   "outputs": [
    {
     "name": "stdout",
     "output_type": "stream",
     "text": [
      "Document: 3/3"
     ]
    }
   ],
   "source": [
    "test_data = pd.read_csv('test_data_features_alligned.csv')\n",
    "test_x, test_y = generate_input_data(test_data)"
   ]
  },
  {
   "cell_type": "code",
   "execution_count": 12,
   "id": "c15772c9",
   "metadata": {},
   "outputs": [
    {
     "data": {
      "text/plain": [
       "0.8807171710013464"
      ]
     },
     "execution_count": 12,
     "metadata": {},
     "output_type": "execute_result"
    }
   ],
   "source": [
    "prediction = crf.predict(test_x)\n",
    "\n",
    "labels = list(crf.classes_)\n",
    "labels.remove('O')\n",
    "metrics.flat_f1_score(test_y, prediction, average='weighted', labels=labels)"
   ]
  },
  {
   "cell_type": "code",
   "execution_count": null,
   "id": "da49451a",
   "metadata": {},
   "outputs": [],
   "source": []
  },
  {
   "cell_type": "code",
   "execution_count": null,
   "id": "980d873e",
   "metadata": {},
   "outputs": [],
   "source": []
  }
 ],
 "metadata": {
  "kernelspec": {
   "display_name": "Python 3",
   "language": "python",
   "name": "python3"
  },
  "language_info": {
   "codemirror_mode": {
    "name": "ipython",
    "version": 3
   },
   "file_extension": ".py",
   "mimetype": "text/x-python",
   "name": "python",
   "nbconvert_exporter": "python",
   "pygments_lexer": "ipython3",
   "version": "3.8.8"
  }
 },
 "nbformat": 4,
 "nbformat_minor": 5
}
